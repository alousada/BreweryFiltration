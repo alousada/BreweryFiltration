{
  "nbformat": 4,
  "nbformat_minor": 0,
  "metadata": {
    "colab": {
      "name": "Cópia de Projeto_Sinais_01_Versão_02_Dez_2020.ipynb",
      "provenance": [],
      "collapsed_sections": [
        "vOL6KDeUvBVc"
      ],
      "toc_visible": true
    },
    "kernelspec": {
      "name": "python3",
      "display_name": "Python 3"
    }
  },
  "cells": [
    {
      "cell_type": "markdown",
      "metadata": {
        "id": "eU5Tz3a7uxWw"
      },
      "source": [
        "#Trabalho Processamento de Sinais"
      ]
    },
    {
      "cell_type": "markdown",
      "metadata": {
        "id": "vOL6KDeUvBVc"
      },
      "source": [
        "#(0) - carregar dados e juntá-los em um único data frame"
      ]
    },
    {
      "cell_type": "markdown",
      "metadata": {
        "id": "SxKuOxW_vEVx"
      },
      "source": [
        "Bibliotecas a serem utilizadas"
      ]
    },
    {
      "cell_type": "code",
      "metadata": {
        "id": "Pqt5lo5gt8d8"
      },
      "source": [
        "# bibliotecas do trabalho\n",
        "import pandas as pd\n",
        "import numpy as np\n",
        "import seaborn as sns\n",
        "from matplotlib import pyplot as plt\n",
        "%matplotlib inline\n",
        "from datetime import datetime\n",
        "import math\n",
        "import io\n",
        "from plotnine import *\n",
        "sns.set_style('darkgrid')\n",
        "sns.set_context('notebook', font_scale = 1.2, rc={\"lines.linewidth\": 2})\n",
        "\n",
        "#bibliotecas para filtrar sinais\n",
        "import scipy as sp\n",
        "import scipy.fftpack\n",
        "import scipy.signal as sg\n",
        "# plot in browser instead of opening new windows\n",
        "%matplotlib inline\n",
        "\n",
        "#biblioteca knn-2\n",
        "from sklearn.cluster import KMeans\n",
        "\n",
        "#biblioteca normatização\n",
        "import sklearn\n",
        "\n",
        "#operações com tempo\n",
        "import time\n",
        "\n",
        "#biblioteca de sinais\n",
        "import scipy as sp\n",
        "import scipy.fftpack\n",
        "import scipy.signal as sg"
      ],
      "execution_count": null,
      "outputs": []
    },
    {
      "cell_type": "markdown",
      "metadata": {
        "id": "QASl_hNTvSa-"
      },
      "source": [
        "#FUNÇÕES <==============================================================="
      ]
    },
    {
      "cell_type": "code",
      "metadata": {
        "id": "H2JpqEPdhsBO"
      },
      "source": [
        "def cria_tempo_filtração(_df_): #cria o campo tempo de filtração no dataframe original\n",
        "\n",
        "  df__ = pd.DataFrame()\n",
        "\n",
        "  df__ = _df_\n",
        "\n",
        "  df__[\"Tempo_Filtração_[segundos]\"] = ( (-1) * ( df__[\"Volume_Fermentador\"] - 2000) ) * 7\n",
        "\n",
        "  return df__"
      ],
      "execution_count": null,
      "outputs": []
    },
    {
      "cell_type": "code",
      "metadata": {
        "id": "ZrboQ6CWvWx3"
      },
      "source": [
        "def format_df_seg( _df_ ):  #formata o tempo coluna em spread\n",
        "  \n",
        "  df__ = pd.melt( _df_ , id_vars=[\"Dia\",\"labels\"], var_name=\"Volume_Fermentador\",value_name=\"Extrato_Primitivo_Filtrado\" )\n",
        "  \n",
        "  df__[\"H_F\"] = ( 2000 - df__[\"Volume_Fermentador\"] ) * 7 / 60 / 60 # calcula horas\n",
        "\n",
        "  df__[\"M_F\"] = ( 2000 - df__[\"Volume_Fermentador\"] ) * 7 / 60 # calcula minutos\n",
        "  df__[\"M_F\"] = df__[\"M_F\"] - df__[\"H_F\"] * 60\n",
        "\n",
        "  df__[\"S_F\"] = ( 2000 - df__[\"Volume_Fermentador\"] ) * 7 - df__[\"M_F\"] * 60 - df__[\"H_F\"] * 60 * 60 \n",
        "\n",
        "  df__[\"Tempo_Filtração_[s]\"] =  (df__[\"H_F\"] + df_kn[\"M_F\"] / 60 + df__[\"M_F\"] / 60 / 60)*3600 \n",
        "\n",
        "  df__.sort_values(['Dia' , 'Volume_Fermentador'], ascending=False, inplace=True) # mantém o ordenamento original\n",
        "\n",
        "  return df__\n"
      ],
      "execution_count": null,
      "outputs": []
    },
    {
      "cell_type": "code",
      "metadata": {
        "id": "q-mCAPu10AAV"
      },
      "source": [
        "def agrupa_sinais( _df_ , sinais ):\n",
        "\n",
        "  gp = sinais[0]\n",
        "  sinais = sinais[1:5]\n",
        "\n",
        "  print (gp)\n",
        "  print (sinais)\n",
        "\n",
        "  for j in sinais:\n",
        "    for i in range(len( _df_ )):\n",
        "\n",
        "      if np.int(_df_.iloc[i, 13]) == int(j):  #13 = Day_File\n",
        "        _df_.iloc[i, 15] = gp\n",
        "      else:\n",
        "        pass\n",
        "\n",
        "  return _df_"
      ],
      "execution_count": null,
      "outputs": []
    },
    {
      "cell_type": "code",
      "metadata": {
        "id": "ipSD37Urja_n"
      },
      "source": [
        "def butter_bandpass(lowcut, highcut, fs, order=5):\n",
        "    nyq = 0.5 * fs\n",
        "    low = lowcut / nyq\n",
        "    high = highcut / nyq\n",
        "    b, a = butter(order, [low, high], btype='band')\n",
        "    return b, a\n"
      ],
      "execution_count": null,
      "outputs": []
    },
    {
      "cell_type": "code",
      "metadata": {
        "id": "qhDMpduzjhN8"
      },
      "source": [
        "def butter_bandpass_filter(data, lowcut, highcut, fs, order=5):\n",
        "    b, a = butter_bandpass(lowcut, highcut, fs, order=order)\n",
        "    y = lfilter(b, a, data)\n",
        "    return y\n",
        "    "
      ],
      "execution_count": null,
      "outputs": []
    },
    {
      "cell_type": "markdown",
      "metadata": {
        "id": "BPZ6fD2ova_k"
      },
      "source": [
        "#(1) - Pré-tratamento dos dados"
      ]
    },
    {
      "cell_type": "code",
      "metadata": {
        "id": "K8VVgLm0vmaB",
        "colab": {
          "resources": {
            "http://localhost:8080/nbextensions/google.colab/files.js": {
              "data": "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",
              "ok": true,
              "headers": [
                [
                  "content-type",
                  "application/javascript"
                ]
              ],
              "status": 200,
              "status_text": ""
            }
          },
          "base_uri": "https://localhost:8080/",
          "height": 486
        },
        "outputId": "858f1cd8-7cc4-4c78-9c49-d82ec258c058"
      },
      "source": [
        "from google.colab import files\n",
        "uploaded = files.upload()"
      ],
      "execution_count": null,
      "outputs": [
        {
          "output_type": "display_data",
          "data": {
            "text/html": [
              "\n",
              "     <input type=\"file\" id=\"files-fd335b72-0105-4356-9a12-6f6cbe373c5f\" name=\"files[]\" multiple disabled\n",
              "        style=\"border:none\" />\n",
              "     <output id=\"result-fd335b72-0105-4356-9a12-6f6cbe373c5f\">\n",
              "      Upload widget is only available when the cell has been executed in the\n",
              "      current browser session. Please rerun this cell to enable.\n",
              "      </output>\n",
              "      <script src=\"/nbextensions/google.colab/files.js\"></script> "
            ],
            "text/plain": [
              "<IPython.core.display.HTML object>"
            ]
          },
          "metadata": {
            "tags": []
          }
        },
        {
          "output_type": "stream",
          "text": [
            "Saving Sinais_Filtra_Cerveja_04_maio_2020.xlsx to Sinais_Filtra_Cerveja_04_maio_2020.xlsx\n",
            "Saving Sinais_Filtra_Cerveja_05_maio_2020.xlsx to Sinais_Filtra_Cerveja_05_maio_2020.xlsx\n",
            "Saving Sinais_Filtra_Cerveja_06_maio_2020.xlsx to Sinais_Filtra_Cerveja_06_maio_2020.xlsx\n",
            "Saving Sinais_Filtra_Cerveja_07_maio_2020.xlsx to Sinais_Filtra_Cerveja_07_maio_2020.xlsx\n",
            "Saving Sinais_Filtra_Cerveja_08_maio_2020.xlsx to Sinais_Filtra_Cerveja_08_maio_2020.xlsx\n",
            "Saving Sinais_Filtra_Cerveja_09_maio_2020.xlsx to Sinais_Filtra_Cerveja_09_maio_2020.xlsx\n",
            "Saving Sinais_Filtra_Cerveja_10_maio_2020.xlsx to Sinais_Filtra_Cerveja_10_maio_2020.xlsx\n",
            "Saving Sinais_Filtra_Cerveja_11_maio_2020.xlsx to Sinais_Filtra_Cerveja_11_maio_2020.xlsx\n",
            "Saving Sinais_Filtra_Cerveja_12_maio_2020.xlsx to Sinais_Filtra_Cerveja_12_maio_2020.xlsx\n",
            "Saving Sinais_Filtra_Cerveja_13_maio_2020.xlsx to Sinais_Filtra_Cerveja_13_maio_2020.xlsx\n",
            "Saving Sinais_Filtra_Cerveja_14_maio_2020.xlsx to Sinais_Filtra_Cerveja_14_maio_2020.xlsx\n",
            "Saving Sinais_Filtra_Cerveja_15_maio_2020.xlsx to Sinais_Filtra_Cerveja_15_maio_2020.xlsx\n",
            "Saving Sinais_Filtra_Cerveja_16_maio_2020.xlsx to Sinais_Filtra_Cerveja_16_maio_2020.xlsx\n"
          ],
          "name": "stdout"
        }
      ]
    },
    {
      "cell_type": "markdown",
      "metadata": {
        "id": "pL2vxiqtvqCP"
      },
      "source": [
        "Juntando os arquivos em uma única tabela\n"
      ]
    },
    {
      "cell_type": "code",
      "metadata": {
        "id": "eBoKCpSCvq7Y",
        "colab": {
          "base_uri": "https://localhost:8080/",
          "height": 238
        },
        "outputId": "1c517e8b-6281-478d-b65b-6640a254d1b2"
      },
      "source": [
        "list_dias = (\"04\",\"05\",\"06\",\"07\",\"08\",\"09\",\n",
        "             \"11\",\"12\",\"13\",\"14\",\"15\",\"16\")\n",
        "frag_1_text_file = \"Sinais_Filtra_Cerveja_\"\n",
        "frag_2_text_tile = \"_maio_2020.xlsx\"\n",
        "\n",
        "df = pd.DataFrame()\n",
        "\n",
        "for i in list_dias:\n",
        "\n",
        "  # collect one file\n",
        "  nome_f           = frag_1_text_file + i + frag_2_text_tile\n",
        "  df_              = pd.read_excel( nome_f ).dropna()\n",
        "  df_[\"File_Name\"] = nome_f\n",
        "  df_[\"Day_File\"]  = i\n",
        "\n",
        "  # empilhamento vertical\n",
        "  df = pd.concat([df, df_], axis=0)"
      ],
      "execution_count": null,
      "outputs": [
        {
          "output_type": "error",
          "ename": "NameError",
          "evalue": "ignored",
          "traceback": [
            "\u001b[0;31m---------------------------------------------------------------------------\u001b[0m",
            "\u001b[0;31mNameError\u001b[0m                                 Traceback (most recent call last)",
            "\u001b[0;32m<ipython-input-2-3cdf4ebc076c>\u001b[0m in \u001b[0;36m<module>\u001b[0;34m()\u001b[0m\n\u001b[1;32m      4\u001b[0m \u001b[0mfrag_2_text_tile\u001b[0m \u001b[0;34m=\u001b[0m \u001b[0;34m\"_maio_2020.xlsx\"\u001b[0m\u001b[0;34m\u001b[0m\u001b[0;34m\u001b[0m\u001b[0m\n\u001b[1;32m      5\u001b[0m \u001b[0;34m\u001b[0m\u001b[0m\n\u001b[0;32m----> 6\u001b[0;31m \u001b[0mdf\u001b[0m \u001b[0;34m=\u001b[0m \u001b[0mpd\u001b[0m\u001b[0;34m.\u001b[0m\u001b[0mDataFrame\u001b[0m\u001b[0;34m(\u001b[0m\u001b[0;34m)\u001b[0m\u001b[0;34m\u001b[0m\u001b[0;34m\u001b[0m\u001b[0m\n\u001b[0m\u001b[1;32m      7\u001b[0m \u001b[0;34m\u001b[0m\u001b[0m\n\u001b[1;32m      8\u001b[0m \u001b[0;32mfor\u001b[0m \u001b[0mi\u001b[0m \u001b[0;32min\u001b[0m \u001b[0mlist_dias\u001b[0m\u001b[0;34m:\u001b[0m\u001b[0;34m\u001b[0m\u001b[0;34m\u001b[0m\u001b[0m\n",
            "\u001b[0;31mNameError\u001b[0m: name 'pd' is not defined"
          ]
        }
      ]
    },
    {
      "cell_type": "markdown",
      "metadata": {
        "id": "pjuDYWfRv0Wt"
      },
      "source": [
        "# Salva uma cópia do arquivo"
      ]
    },
    {
      "cell_type": "code",
      "metadata": {
        "id": "jK-k2Wo7v3bR"
      },
      "source": [
        "writer = df.to_excel('arquivo_concatenado.xlsx')"
      ],
      "execution_count": null,
      "outputs": []
    },
    {
      "cell_type": "markdown",
      "metadata": {
        "id": "8iZ0LekNvzI9"
      },
      "source": [
        "Avaliando o arquivo gerado"
      ]
    },
    {
      "cell_type": "code",
      "metadata": {
        "id": "dNv6JEbev6hQ",
        "colab": {
          "base_uri": "https://localhost:8080/",
          "height": 593
        },
        "outputId": "01fcb907-b1c3-4155-e10b-35fa4eee7b4c"
      },
      "source": [
        "df"
      ],
      "execution_count": null,
      "outputs": [
        {
          "output_type": "execute_result",
          "data": {
            "text/html": [
              "<div>\n",
              "<style scoped>\n",
              "    .dataframe tbody tr th:only-of-type {\n",
              "        vertical-align: middle;\n",
              "    }\n",
              "\n",
              "    .dataframe tbody tr th {\n",
              "        vertical-align: top;\n",
              "    }\n",
              "\n",
              "    .dataframe thead th {\n",
              "        text-align: right;\n",
              "    }\n",
              "</style>\n",
              "<table border=\"1\" class=\"dataframe\">\n",
              "  <thead>\n",
              "    <tr style=\"text-align: right;\">\n",
              "      <th></th>\n",
              "      <th>Data</th>\n",
              "      <th>Hora</th>\n",
              "      <th>Extrato_Médio_Fermentador</th>\n",
              "      <th>Extrato_Primitivo_Fermentador</th>\n",
              "      <th>Volume_Fermentador</th>\n",
              "      <th>Extrato_Primitivo_Filtrado</th>\n",
              "      <th>Vazão_Cerv_Conc_Média</th>\n",
              "      <th>Vazão_Inicial_Filtração</th>\n",
              "      <th>Abertura_VA_SP</th>\n",
              "      <th>Abertura_VB_SP</th>\n",
              "      <th>Abertura_VA_modul</th>\n",
              "      <th>Abertura_VB_modul</th>\n",
              "      <th>File_Name</th>\n",
              "      <th>Day_File</th>\n",
              "    </tr>\n",
              "  </thead>\n",
              "  <tbody>\n",
              "    <tr>\n",
              "      <th>0</th>\n",
              "      <td>2020-05-04</td>\n",
              "      <td>07:50:00</td>\n",
              "      <td>15.55</td>\n",
              "      <td>15.551255</td>\n",
              "      <td>2000.0</td>\n",
              "      <td>11.661723</td>\n",
              "      <td>501.0</td>\n",
              "      <td>168.0</td>\n",
              "      <td>37.0</td>\n",
              "      <td>54.0</td>\n",
              "      <td>37.0</td>\n",
              "      <td>54.0</td>\n",
              "      <td>Sinais_Filtra_Cerveja_04_maio_2020.xlsx</td>\n",
              "      <td>04</td>\n",
              "    </tr>\n",
              "    <tr>\n",
              "      <th>1</th>\n",
              "      <td>2020-05-04</td>\n",
              "      <td>07:50:07</td>\n",
              "      <td>15.55</td>\n",
              "      <td>15.513439</td>\n",
              "      <td>1999.0</td>\n",
              "      <td>11.523376</td>\n",
              "      <td>501.0</td>\n",
              "      <td>168.0</td>\n",
              "      <td>37.0</td>\n",
              "      <td>54.0</td>\n",
              "      <td>39.0</td>\n",
              "      <td>56.0</td>\n",
              "      <td>Sinais_Filtra_Cerveja_04_maio_2020.xlsx</td>\n",
              "      <td>04</td>\n",
              "    </tr>\n",
              "    <tr>\n",
              "      <th>2</th>\n",
              "      <td>2020-05-04</td>\n",
              "      <td>07:50:14</td>\n",
              "      <td>15.55</td>\n",
              "      <td>15.559832</td>\n",
              "      <td>1998.0</td>\n",
              "      <td>11.333884</td>\n",
              "      <td>501.0</td>\n",
              "      <td>168.0</td>\n",
              "      <td>37.0</td>\n",
              "      <td>54.0</td>\n",
              "      <td>41.0</td>\n",
              "      <td>58.0</td>\n",
              "      <td>Sinais_Filtra_Cerveja_04_maio_2020.xlsx</td>\n",
              "      <td>04</td>\n",
              "    </tr>\n",
              "    <tr>\n",
              "      <th>3</th>\n",
              "      <td>2020-05-04</td>\n",
              "      <td>07:50:21</td>\n",
              "      <td>15.55</td>\n",
              "      <td>15.553515</td>\n",
              "      <td>1997.0</td>\n",
              "      <td>11.228191</td>\n",
              "      <td>501.0</td>\n",
              "      <td>168.0</td>\n",
              "      <td>37.0</td>\n",
              "      <td>54.0</td>\n",
              "      <td>43.0</td>\n",
              "      <td>60.0</td>\n",
              "      <td>Sinais_Filtra_Cerveja_04_maio_2020.xlsx</td>\n",
              "      <td>04</td>\n",
              "    </tr>\n",
              "    <tr>\n",
              "      <th>4</th>\n",
              "      <td>2020-05-04</td>\n",
              "      <td>07:50:28</td>\n",
              "      <td>15.55</td>\n",
              "      <td>15.573802</td>\n",
              "      <td>1996.0</td>\n",
              "      <td>11.067199</td>\n",
              "      <td>501.0</td>\n",
              "      <td>168.0</td>\n",
              "      <td>37.0</td>\n",
              "      <td>54.0</td>\n",
              "      <td>45.0</td>\n",
              "      <td>62.0</td>\n",
              "      <td>Sinais_Filtra_Cerveja_04_maio_2020.xlsx</td>\n",
              "      <td>04</td>\n",
              "    </tr>\n",
              "    <tr>\n",
              "      <th>...</th>\n",
              "      <td>...</td>\n",
              "      <td>...</td>\n",
              "      <td>...</td>\n",
              "      <td>...</td>\n",
              "      <td>...</td>\n",
              "      <td>...</td>\n",
              "      <td>...</td>\n",
              "      <td>...</td>\n",
              "      <td>...</td>\n",
              "      <td>...</td>\n",
              "      <td>...</td>\n",
              "      <td>...</td>\n",
              "      <td>...</td>\n",
              "      <td>...</td>\n",
              "    </tr>\n",
              "    <tr>\n",
              "      <th>1995</th>\n",
              "      <td>2020-05-16</td>\n",
              "      <td>11:59:45</td>\n",
              "      <td>15.96</td>\n",
              "      <td>15.964509</td>\n",
              "      <td>5.0</td>\n",
              "      <td>11.028113</td>\n",
              "      <td>516.0</td>\n",
              "      <td>270.0</td>\n",
              "      <td>37.0</td>\n",
              "      <td>55.0</td>\n",
              "      <td>27.0</td>\n",
              "      <td>45.0</td>\n",
              "      <td>Sinais_Filtra_Cerveja_16_maio_2020.xlsx</td>\n",
              "      <td>16</td>\n",
              "    </tr>\n",
              "    <tr>\n",
              "      <th>1996</th>\n",
              "      <td>2020-05-16</td>\n",
              "      <td>11:59:52</td>\n",
              "      <td>15.96</td>\n",
              "      <td>15.911182</td>\n",
              "      <td>4.0</td>\n",
              "      <td>11.208461</td>\n",
              "      <td>516.0</td>\n",
              "      <td>270.0</td>\n",
              "      <td>37.0</td>\n",
              "      <td>55.0</td>\n",
              "      <td>25.0</td>\n",
              "      <td>43.0</td>\n",
              "      <td>Sinais_Filtra_Cerveja_16_maio_2020.xlsx</td>\n",
              "      <td>16</td>\n",
              "    </tr>\n",
              "    <tr>\n",
              "      <th>1997</th>\n",
              "      <td>2020-05-16</td>\n",
              "      <td>11:59:59</td>\n",
              "      <td>15.96</td>\n",
              "      <td>16.016496</td>\n",
              "      <td>3.0</td>\n",
              "      <td>10.992927</td>\n",
              "      <td>516.0</td>\n",
              "      <td>270.0</td>\n",
              "      <td>37.0</td>\n",
              "      <td>55.0</td>\n",
              "      <td>27.0</td>\n",
              "      <td>45.0</td>\n",
              "      <td>Sinais_Filtra_Cerveja_16_maio_2020.xlsx</td>\n",
              "      <td>16</td>\n",
              "    </tr>\n",
              "    <tr>\n",
              "      <th>1998</th>\n",
              "      <td>2020-05-16</td>\n",
              "      <td>12:00:06</td>\n",
              "      <td>15.96</td>\n",
              "      <td>15.895151</td>\n",
              "      <td>2.0</td>\n",
              "      <td>11.234906</td>\n",
              "      <td>516.0</td>\n",
              "      <td>270.0</td>\n",
              "      <td>37.0</td>\n",
              "      <td>55.0</td>\n",
              "      <td>25.0</td>\n",
              "      <td>43.0</td>\n",
              "      <td>Sinais_Filtra_Cerveja_16_maio_2020.xlsx</td>\n",
              "      <td>16</td>\n",
              "    </tr>\n",
              "    <tr>\n",
              "      <th>1999</th>\n",
              "      <td>2020-05-16</td>\n",
              "      <td>12:00:13</td>\n",
              "      <td>15.96</td>\n",
              "      <td>15.998359</td>\n",
              "      <td>1.0</td>\n",
              "      <td>11.002727</td>\n",
              "      <td>516.0</td>\n",
              "      <td>270.0</td>\n",
              "      <td>37.0</td>\n",
              "      <td>55.0</td>\n",
              "      <td>27.0</td>\n",
              "      <td>45.0</td>\n",
              "      <td>Sinais_Filtra_Cerveja_16_maio_2020.xlsx</td>\n",
              "      <td>16</td>\n",
              "    </tr>\n",
              "  </tbody>\n",
              "</table>\n",
              "<p>24000 rows × 14 columns</p>\n",
              "</div>"
            ],
            "text/plain": [
              "           Data      Hora  ...                                File_Name  Day_File\n",
              "0    2020-05-04  07:50:00  ...  Sinais_Filtra_Cerveja_04_maio_2020.xlsx        04\n",
              "1    2020-05-04  07:50:07  ...  Sinais_Filtra_Cerveja_04_maio_2020.xlsx        04\n",
              "2    2020-05-04  07:50:14  ...  Sinais_Filtra_Cerveja_04_maio_2020.xlsx        04\n",
              "3    2020-05-04  07:50:21  ...  Sinais_Filtra_Cerveja_04_maio_2020.xlsx        04\n",
              "4    2020-05-04  07:50:28  ...  Sinais_Filtra_Cerveja_04_maio_2020.xlsx        04\n",
              "...         ...       ...  ...                                      ...       ...\n",
              "1995 2020-05-16  11:59:45  ...  Sinais_Filtra_Cerveja_16_maio_2020.xlsx        16\n",
              "1996 2020-05-16  11:59:52  ...  Sinais_Filtra_Cerveja_16_maio_2020.xlsx        16\n",
              "1997 2020-05-16  11:59:59  ...  Sinais_Filtra_Cerveja_16_maio_2020.xlsx        16\n",
              "1998 2020-05-16  12:00:06  ...  Sinais_Filtra_Cerveja_16_maio_2020.xlsx        16\n",
              "1999 2020-05-16  12:00:13  ...  Sinais_Filtra_Cerveja_16_maio_2020.xlsx        16\n",
              "\n",
              "[24000 rows x 14 columns]"
            ]
          },
          "metadata": {
            "tags": []
          },
          "execution_count": 72
        }
      ]
    },
    {
      "cell_type": "markdown",
      "metadata": {
        "id": "mfsBxgcFhElq"
      },
      "source": [
        "\n",
        "Mais informações sobre o data frame"
      ]
    },
    {
      "cell_type": "code",
      "metadata": {
        "colab": {
          "base_uri": "https://localhost:8080/"
        },
        "id": "5_ChKG1PhGIK",
        "outputId": "18a00335-6b97-47e8-a064-081c35eaa4ba"
      },
      "source": [
        "\n",
        "print (f\"Formato do data frame : {df.shape} \\n\")\n",
        "print (f\"Classe do data frame : {df.index} \\n\")\n",
        "print (f\"Número de colunas : {df.columns} \\n\")\n",
        "print (\"#\"*30)\n",
        "df.info()\n",
        "print (\"#\"*30)\n",
        "df.dtypes.value_counts()\n"
      ],
      "execution_count": null,
      "outputs": [
        {
          "output_type": "stream",
          "text": [
            "Formato do data frame : (24000, 14) \n",
            "\n",
            "Classe do data frame : Int64Index([   0,    1,    2,    3,    4,    5,    6,    7,    8,    9,\n",
            "            ...\n",
            "            1990, 1991, 1992, 1993, 1994, 1995, 1996, 1997, 1998, 1999],\n",
            "           dtype='int64', length=24000) \n",
            "\n",
            "Número de colunas : Index(['Data', 'Hora', 'Extrato_Médio_Fermentador',\n",
            "       'Extrato_Primitivo_Fermentador', 'Volume_Fermentador',\n",
            "       'Extrato_Primitivo_Filtrado', 'Vazão_Cerv_Conc_Média',\n",
            "       'Vazão_Inicial_Filtração', 'Abertura_VA_SP', 'Abertura_VB_SP',\n",
            "       'Abertura_VA_modul', 'Abertura_VB_modul', 'File_Name', 'Day_File'],\n",
            "      dtype='object') \n",
            "\n",
            "##############################\n",
            "<class 'pandas.core.frame.DataFrame'>\n",
            "Int64Index: 24000 entries, 0 to 1999\n",
            "Data columns (total 14 columns):\n",
            " #   Column                         Non-Null Count  Dtype         \n",
            "---  ------                         --------------  -----         \n",
            " 0   Data                           24000 non-null  datetime64[ns]\n",
            " 1   Hora                           24000 non-null  object        \n",
            " 2   Extrato_Médio_Fermentador      24000 non-null  float64       \n",
            " 3   Extrato_Primitivo_Fermentador  24000 non-null  float64       \n",
            " 4   Volume_Fermentador             24000 non-null  float64       \n",
            " 5   Extrato_Primitivo_Filtrado     24000 non-null  float64       \n",
            " 6   Vazão_Cerv_Conc_Média          24000 non-null  float64       \n",
            " 7   Vazão_Inicial_Filtração        24000 non-null  float64       \n",
            " 8   Abertura_VA_SP                 24000 non-null  float64       \n",
            " 9   Abertura_VB_SP                 24000 non-null  float64       \n",
            " 10  Abertura_VA_modul              24000 non-null  float64       \n",
            " 11  Abertura_VB_modul              24000 non-null  float64       \n",
            " 12  File_Name                      24000 non-null  object        \n",
            " 13  Day_File                       24000 non-null  object        \n",
            "dtypes: datetime64[ns](1), float64(10), object(3)\n",
            "memory usage: 2.7+ MB\n",
            "##############################\n"
          ],
          "name": "stdout"
        },
        {
          "output_type": "execute_result",
          "data": {
            "text/plain": [
              "float64           10\n",
              "object             3\n",
              "datetime64[ns]     1\n",
              "dtype: int64"
            ]
          },
          "metadata": {
            "tags": []
          },
          "execution_count": 73
        }
      ]
    },
    {
      "cell_type": "markdown",
      "metadata": {
        "id": "cyBfJSl4hXS8"
      },
      "source": [
        "Cria a coluna Tempo de Filtração"
      ]
    },
    {
      "cell_type": "code",
      "metadata": {
        "colab": {
          "base_uri": "https://localhost:8080/",
          "height": 593
        },
        "id": "liSAxTvKgEUL",
        "outputId": "bc2f55ac-2bb1-468f-d3db-361395962ab8"
      },
      "source": [
        "cria_tempo_filtração( df )"
      ],
      "execution_count": null,
      "outputs": [
        {
          "output_type": "execute_result",
          "data": {
            "text/html": [
              "<div>\n",
              "<style scoped>\n",
              "    .dataframe tbody tr th:only-of-type {\n",
              "        vertical-align: middle;\n",
              "    }\n",
              "\n",
              "    .dataframe tbody tr th {\n",
              "        vertical-align: top;\n",
              "    }\n",
              "\n",
              "    .dataframe thead th {\n",
              "        text-align: right;\n",
              "    }\n",
              "</style>\n",
              "<table border=\"1\" class=\"dataframe\">\n",
              "  <thead>\n",
              "    <tr style=\"text-align: right;\">\n",
              "      <th></th>\n",
              "      <th>Data</th>\n",
              "      <th>Hora</th>\n",
              "      <th>Extrato_Médio_Fermentador</th>\n",
              "      <th>Extrato_Primitivo_Fermentador</th>\n",
              "      <th>Volume_Fermentador</th>\n",
              "      <th>Extrato_Primitivo_Filtrado</th>\n",
              "      <th>Vazão_Cerv_Conc_Média</th>\n",
              "      <th>Vazão_Inicial_Filtração</th>\n",
              "      <th>Abertura_VA_SP</th>\n",
              "      <th>Abertura_VB_SP</th>\n",
              "      <th>Abertura_VA_modul</th>\n",
              "      <th>Abertura_VB_modul</th>\n",
              "      <th>File_Name</th>\n",
              "      <th>Day_File</th>\n",
              "      <th>Tempo_Filtração_[segundos]</th>\n",
              "    </tr>\n",
              "  </thead>\n",
              "  <tbody>\n",
              "    <tr>\n",
              "      <th>0</th>\n",
              "      <td>2020-05-04</td>\n",
              "      <td>07:50:00</td>\n",
              "      <td>15.55</td>\n",
              "      <td>15.551255</td>\n",
              "      <td>2000.0</td>\n",
              "      <td>11.661723</td>\n",
              "      <td>501.0</td>\n",
              "      <td>168.0</td>\n",
              "      <td>37.0</td>\n",
              "      <td>54.0</td>\n",
              "      <td>37.0</td>\n",
              "      <td>54.0</td>\n",
              "      <td>Sinais_Filtra_Cerveja_04_maio_2020.xlsx</td>\n",
              "      <td>04</td>\n",
              "      <td>-0.0</td>\n",
              "    </tr>\n",
              "    <tr>\n",
              "      <th>1</th>\n",
              "      <td>2020-05-04</td>\n",
              "      <td>07:50:07</td>\n",
              "      <td>15.55</td>\n",
              "      <td>15.513439</td>\n",
              "      <td>1999.0</td>\n",
              "      <td>11.523376</td>\n",
              "      <td>501.0</td>\n",
              "      <td>168.0</td>\n",
              "      <td>37.0</td>\n",
              "      <td>54.0</td>\n",
              "      <td>39.0</td>\n",
              "      <td>56.0</td>\n",
              "      <td>Sinais_Filtra_Cerveja_04_maio_2020.xlsx</td>\n",
              "      <td>04</td>\n",
              "      <td>7.0</td>\n",
              "    </tr>\n",
              "    <tr>\n",
              "      <th>2</th>\n",
              "      <td>2020-05-04</td>\n",
              "      <td>07:50:14</td>\n",
              "      <td>15.55</td>\n",
              "      <td>15.559832</td>\n",
              "      <td>1998.0</td>\n",
              "      <td>11.333884</td>\n",
              "      <td>501.0</td>\n",
              "      <td>168.0</td>\n",
              "      <td>37.0</td>\n",
              "      <td>54.0</td>\n",
              "      <td>41.0</td>\n",
              "      <td>58.0</td>\n",
              "      <td>Sinais_Filtra_Cerveja_04_maio_2020.xlsx</td>\n",
              "      <td>04</td>\n",
              "      <td>14.0</td>\n",
              "    </tr>\n",
              "    <tr>\n",
              "      <th>3</th>\n",
              "      <td>2020-05-04</td>\n",
              "      <td>07:50:21</td>\n",
              "      <td>15.55</td>\n",
              "      <td>15.553515</td>\n",
              "      <td>1997.0</td>\n",
              "      <td>11.228191</td>\n",
              "      <td>501.0</td>\n",
              "      <td>168.0</td>\n",
              "      <td>37.0</td>\n",
              "      <td>54.0</td>\n",
              "      <td>43.0</td>\n",
              "      <td>60.0</td>\n",
              "      <td>Sinais_Filtra_Cerveja_04_maio_2020.xlsx</td>\n",
              "      <td>04</td>\n",
              "      <td>21.0</td>\n",
              "    </tr>\n",
              "    <tr>\n",
              "      <th>4</th>\n",
              "      <td>2020-05-04</td>\n",
              "      <td>07:50:28</td>\n",
              "      <td>15.55</td>\n",
              "      <td>15.573802</td>\n",
              "      <td>1996.0</td>\n",
              "      <td>11.067199</td>\n",
              "      <td>501.0</td>\n",
              "      <td>168.0</td>\n",
              "      <td>37.0</td>\n",
              "      <td>54.0</td>\n",
              "      <td>45.0</td>\n",
              "      <td>62.0</td>\n",
              "      <td>Sinais_Filtra_Cerveja_04_maio_2020.xlsx</td>\n",
              "      <td>04</td>\n",
              "      <td>28.0</td>\n",
              "    </tr>\n",
              "    <tr>\n",
              "      <th>...</th>\n",
              "      <td>...</td>\n",
              "      <td>...</td>\n",
              "      <td>...</td>\n",
              "      <td>...</td>\n",
              "      <td>...</td>\n",
              "      <td>...</td>\n",
              "      <td>...</td>\n",
              "      <td>...</td>\n",
              "      <td>...</td>\n",
              "      <td>...</td>\n",
              "      <td>...</td>\n",
              "      <td>...</td>\n",
              "      <td>...</td>\n",
              "      <td>...</td>\n",
              "      <td>...</td>\n",
              "    </tr>\n",
              "    <tr>\n",
              "      <th>1995</th>\n",
              "      <td>2020-05-16</td>\n",
              "      <td>11:59:45</td>\n",
              "      <td>15.96</td>\n",
              "      <td>15.964509</td>\n",
              "      <td>5.0</td>\n",
              "      <td>11.028113</td>\n",
              "      <td>516.0</td>\n",
              "      <td>270.0</td>\n",
              "      <td>37.0</td>\n",
              "      <td>55.0</td>\n",
              "      <td>27.0</td>\n",
              "      <td>45.0</td>\n",
              "      <td>Sinais_Filtra_Cerveja_16_maio_2020.xlsx</td>\n",
              "      <td>16</td>\n",
              "      <td>13965.0</td>\n",
              "    </tr>\n",
              "    <tr>\n",
              "      <th>1996</th>\n",
              "      <td>2020-05-16</td>\n",
              "      <td>11:59:52</td>\n",
              "      <td>15.96</td>\n",
              "      <td>15.911182</td>\n",
              "      <td>4.0</td>\n",
              "      <td>11.208461</td>\n",
              "      <td>516.0</td>\n",
              "      <td>270.0</td>\n",
              "      <td>37.0</td>\n",
              "      <td>55.0</td>\n",
              "      <td>25.0</td>\n",
              "      <td>43.0</td>\n",
              "      <td>Sinais_Filtra_Cerveja_16_maio_2020.xlsx</td>\n",
              "      <td>16</td>\n",
              "      <td>13972.0</td>\n",
              "    </tr>\n",
              "    <tr>\n",
              "      <th>1997</th>\n",
              "      <td>2020-05-16</td>\n",
              "      <td>11:59:59</td>\n",
              "      <td>15.96</td>\n",
              "      <td>16.016496</td>\n",
              "      <td>3.0</td>\n",
              "      <td>10.992927</td>\n",
              "      <td>516.0</td>\n",
              "      <td>270.0</td>\n",
              "      <td>37.0</td>\n",
              "      <td>55.0</td>\n",
              "      <td>27.0</td>\n",
              "      <td>45.0</td>\n",
              "      <td>Sinais_Filtra_Cerveja_16_maio_2020.xlsx</td>\n",
              "      <td>16</td>\n",
              "      <td>13979.0</td>\n",
              "    </tr>\n",
              "    <tr>\n",
              "      <th>1998</th>\n",
              "      <td>2020-05-16</td>\n",
              "      <td>12:00:06</td>\n",
              "      <td>15.96</td>\n",
              "      <td>15.895151</td>\n",
              "      <td>2.0</td>\n",
              "      <td>11.234906</td>\n",
              "      <td>516.0</td>\n",
              "      <td>270.0</td>\n",
              "      <td>37.0</td>\n",
              "      <td>55.0</td>\n",
              "      <td>25.0</td>\n",
              "      <td>43.0</td>\n",
              "      <td>Sinais_Filtra_Cerveja_16_maio_2020.xlsx</td>\n",
              "      <td>16</td>\n",
              "      <td>13986.0</td>\n",
              "    </tr>\n",
              "    <tr>\n",
              "      <th>1999</th>\n",
              "      <td>2020-05-16</td>\n",
              "      <td>12:00:13</td>\n",
              "      <td>15.96</td>\n",
              "      <td>15.998359</td>\n",
              "      <td>1.0</td>\n",
              "      <td>11.002727</td>\n",
              "      <td>516.0</td>\n",
              "      <td>270.0</td>\n",
              "      <td>37.0</td>\n",
              "      <td>55.0</td>\n",
              "      <td>27.0</td>\n",
              "      <td>45.0</td>\n",
              "      <td>Sinais_Filtra_Cerveja_16_maio_2020.xlsx</td>\n",
              "      <td>16</td>\n",
              "      <td>13993.0</td>\n",
              "    </tr>\n",
              "  </tbody>\n",
              "</table>\n",
              "<p>24000 rows × 15 columns</p>\n",
              "</div>"
            ],
            "text/plain": [
              "           Data      Hora  ...  Day_File  Tempo_Filtração_[segundos]\n",
              "0    2020-05-04  07:50:00  ...        04                        -0.0\n",
              "1    2020-05-04  07:50:07  ...        04                         7.0\n",
              "2    2020-05-04  07:50:14  ...        04                        14.0\n",
              "3    2020-05-04  07:50:21  ...        04                        21.0\n",
              "4    2020-05-04  07:50:28  ...        04                        28.0\n",
              "...         ...       ...  ...       ...                         ...\n",
              "1995 2020-05-16  11:59:45  ...        16                     13965.0\n",
              "1996 2020-05-16  11:59:52  ...        16                     13972.0\n",
              "1997 2020-05-16  11:59:59  ...        16                     13979.0\n",
              "1998 2020-05-16  12:00:06  ...        16                     13986.0\n",
              "1999 2020-05-16  12:00:13  ...        16                     13993.0\n",
              "\n",
              "[24000 rows x 15 columns]"
            ]
          },
          "metadata": {
            "tags": []
          },
          "execution_count": 74
        }
      ]
    },
    {
      "cell_type": "markdown",
      "metadata": {
        "id": "0cbq6LKgj2ve"
      },
      "source": [
        "#(2) Visualizações iniciais do data set"
      ]
    },
    {
      "cell_type": "markdown",
      "metadata": {
        "id": "J2eXgTixvtbn"
      },
      "source": [
        "Perfil de todos os sinais selecionados com faceting sns"
      ]
    },
    {
      "cell_type": "code",
      "metadata": {
        "colab": {
          "base_uri": "https://localhost:8080/",
          "height": 692
        },
        "id": "svPp7Qf8j2Vt",
        "outputId": "db9662d1-3b1a-4c8c-950a-dc549caa9c12"
      },
      "source": [
        "\n",
        "plt.figure(figsize = (15,5))\n",
        "\n",
        "g = sns.FacetGrid(df , col=\"Day_File\", height=3, col_wrap=4)\n",
        "g.map(sns.lineplot, \"Tempo_Filtração_[segundos]\", \"Extrato_Primitivo_Filtrado\")\n",
        "\n",
        "plt.xlabel('Data e Hora')\n",
        "plt.ylabel('Extrato Primitivo em')"
      ],
      "execution_count": null,
      "outputs": [
        {
          "output_type": "execute_result",
          "data": {
            "text/plain": [
              "Text(677.2, 0.5, 'Extrato Primitivo em')"
            ]
          },
          "metadata": {
            "tags": []
          },
          "execution_count": 75
        },
        {
          "output_type": "display_data",
          "data": {
            "text/plain": [
              "<Figure size 1080x360 with 0 Axes>"
            ]
          },
          "metadata": {
            "tags": []
          }
        },
        {
          "output_type": "display_data",
          "data": {
            "image/png": "[encoded data removed]",
            "text/plain": [
              "<Figure size 864x648 with 12 Axes>"
            ]
          },
          "metadata": {
            "tags": [],
            "needs_background": "light"
          }
        }
      ]
    },
    {
      "cell_type": "markdown",
      "metadata": {
        "id": "sg_Z8oywy4kc"
      },
      "source": [
        "Agrupamento dos sinais com similaridade visual para melhor visualização"
      ]
    },
    {
      "cell_type": "code",
      "metadata": {
        "id": "Xc8BIOeoPLhU"
      },
      "source": [
        "df[\"Grupo\"] = np.nan\n"
      ],
      "execution_count": null,
      "outputs": []
    },
    {
      "cell_type": "code",
      "metadata": {
        "colab": {
          "base_uri": "https://localhost:8080/"
        },
        "id": "j6Fk1dmVDqL5",
        "outputId": "27dca0be-b663-431b-e079-7a06eacd89e0"
      },
      "source": [
        "sinais_padrão = [\"00\", \"04\", \"08\", \"12\", \"13\"]\n",
        "sinais_anom_1 = [\"01\", \"07\", \"14\", \"15\", \"16\"]\n",
        "sinais_anom_2 = [\"02\", \"05\", \"06\", \"09\", \"11\"]\n",
        "\n",
        "\n",
        "agrupa_sinais( df , sinais_padrão ) \n",
        "agrupa_sinais( df , sinais_anom_1 )\n",
        "agrupa_sinais( df , sinais_anom_2 )\n",
        "\n",
        "df[\"Grupo_Dia\"] = df[\"Grupo\"] +\"_\"+ df[\"Day_File\"]"
      ],
      "execution_count": null,
      "outputs": [
        {
          "output_type": "stream",
          "text": [
            "00\n",
            "['04', '08', '12', '13']\n",
            "01\n",
            "['07', '14', '15', '16']\n",
            "02\n",
            "['05', '06', '09', '11']\n"
          ],
          "name": "stdout"
        }
      ]
    },
    {
      "cell_type": "code",
      "metadata": {
        "id": "j4Dt9Vz7N5RH"
      },
      "source": [
        "df[\"Data_Hora\"] = pd.to_datetime( df.Data.astype(str) + ' ' + df.Hora.astype(str) ) # feature da data e hora"
      ],
      "execution_count": null,
      "outputs": []
    },
    {
      "cell_type": "code",
      "metadata": {
        "colab": {
          "base_uri": "https://localhost:8080/"
        },
        "id": "gFcn9q2ZN-3u",
        "outputId": "1783f71f-d489-4f9a-a8be-fbcaccb22e0a"
      },
      "source": [
        "df['Hora'].map(lambda x: x.strftime('%H:%M:%S') if pd.notnull(x) else '') # formata hora"
      ],
      "execution_count": null,
      "outputs": [
        {
          "output_type": "execute_result",
          "data": {
            "text/plain": [
              "0       07:50:00\n",
              "1       07:50:07\n",
              "2       07:50:14\n",
              "3       07:50:21\n",
              "4       07:50:28\n",
              "          ...   \n",
              "1995    11:59:45\n",
              "1996    11:59:52\n",
              "1997    11:59:59\n",
              "1998    12:00:06\n",
              "1999    12:00:13\n",
              "Name: Hora, Length: 24000, dtype: object"
            ]
          },
          "metadata": {
            "tags": []
          },
          "execution_count": 79
        }
      ]
    },
    {
      "cell_type": "code",
      "metadata": {
        "colab": {
          "base_uri": "https://localhost:8080/",
          "height": 760
        },
        "id": "SmVCRC6LI0eu",
        "outputId": "31fa216b-5da5-4a40-f458-3779eea405c5"
      },
      "source": [
        "df_1 = df\n",
        "df_1.sort_values(['Grupo' , 'Day_File', 'Tempo_Filtração_[segundos]'], ascending=True, inplace=True) \n",
        "df_1"
      ],
      "execution_count": null,
      "outputs": [
        {
          "output_type": "execute_result",
          "data": {
            "text/html": [
              "<div>\n",
              "<style scoped>\n",
              "    .dataframe tbody tr th:only-of-type {\n",
              "        vertical-align: middle;\n",
              "    }\n",
              "\n",
              "    .dataframe tbody tr th {\n",
              "        vertical-align: top;\n",
              "    }\n",
              "\n",
              "    .dataframe thead th {\n",
              "        text-align: right;\n",
              "    }\n",
              "</style>\n",
              "<table border=\"1\" class=\"dataframe\">\n",
              "  <thead>\n",
              "    <tr style=\"text-align: right;\">\n",
              "      <th></th>\n",
              "      <th>Data</th>\n",
              "      <th>Hora</th>\n",
              "      <th>Extrato_Médio_Fermentador</th>\n",
              "      <th>Extrato_Primitivo_Fermentador</th>\n",
              "      <th>Volume_Fermentador</th>\n",
              "      <th>Extrato_Primitivo_Filtrado</th>\n",
              "      <th>Vazão_Cerv_Conc_Média</th>\n",
              "      <th>Vazão_Inicial_Filtração</th>\n",
              "      <th>Abertura_VA_SP</th>\n",
              "      <th>Abertura_VB_SP</th>\n",
              "      <th>Abertura_VA_modul</th>\n",
              "      <th>Abertura_VB_modul</th>\n",
              "      <th>File_Name</th>\n",
              "      <th>Day_File</th>\n",
              "      <th>Tempo_Filtração_[segundos]</th>\n",
              "      <th>Grupo</th>\n",
              "      <th>Grupo_Dia</th>\n",
              "      <th>Data_Hora</th>\n",
              "    </tr>\n",
              "  </thead>\n",
              "  <tbody>\n",
              "    <tr>\n",
              "      <th>0</th>\n",
              "      <td>2020-05-04</td>\n",
              "      <td>07:50:00</td>\n",
              "      <td>15.55</td>\n",
              "      <td>15.551255</td>\n",
              "      <td>2000.0</td>\n",
              "      <td>11.661723</td>\n",
              "      <td>501.0</td>\n",
              "      <td>168.0</td>\n",
              "      <td>37.0</td>\n",
              "      <td>54.0</td>\n",
              "      <td>37.0</td>\n",
              "      <td>54.0</td>\n",
              "      <td>Sinais_Filtra_Cerveja_04_maio_2020.xlsx</td>\n",
              "      <td>04</td>\n",
              "      <td>-0.0</td>\n",
              "      <td>00</td>\n",
              "      <td>00_04</td>\n",
              "      <td>2020-05-04 07:50:00</td>\n",
              "    </tr>\n",
              "    <tr>\n",
              "      <th>1</th>\n",
              "      <td>2020-05-04</td>\n",
              "      <td>07:50:07</td>\n",
              "      <td>15.55</td>\n",
              "      <td>15.513439</td>\n",
              "      <td>1999.0</td>\n",
              "      <td>11.523376</td>\n",
              "      <td>501.0</td>\n",
              "      <td>168.0</td>\n",
              "      <td>37.0</td>\n",
              "      <td>54.0</td>\n",
              "      <td>39.0</td>\n",
              "      <td>56.0</td>\n",
              "      <td>Sinais_Filtra_Cerveja_04_maio_2020.xlsx</td>\n",
              "      <td>04</td>\n",
              "      <td>7.0</td>\n",
              "      <td>00</td>\n",
              "      <td>00_04</td>\n",
              "      <td>2020-05-04 07:50:07</td>\n",
              "    </tr>\n",
              "    <tr>\n",
              "      <th>2</th>\n",
              "      <td>2020-05-04</td>\n",
              "      <td>07:50:14</td>\n",
              "      <td>15.55</td>\n",
              "      <td>15.559832</td>\n",
              "      <td>1998.0</td>\n",
              "      <td>11.333884</td>\n",
              "      <td>501.0</td>\n",
              "      <td>168.0</td>\n",
              "      <td>37.0</td>\n",
              "      <td>54.0</td>\n",
              "      <td>41.0</td>\n",
              "      <td>58.0</td>\n",
              "      <td>Sinais_Filtra_Cerveja_04_maio_2020.xlsx</td>\n",
              "      <td>04</td>\n",
              "      <td>14.0</td>\n",
              "      <td>00</td>\n",
              "      <td>00_04</td>\n",
              "      <td>2020-05-04 07:50:14</td>\n",
              "    </tr>\n",
              "    <tr>\n",
              "      <th>3</th>\n",
              "      <td>2020-05-04</td>\n",
              "      <td>07:50:21</td>\n",
              "      <td>15.55</td>\n",
              "      <td>15.553515</td>\n",
              "      <td>1997.0</td>\n",
              "      <td>11.228191</td>\n",
              "      <td>501.0</td>\n",
              "      <td>168.0</td>\n",
              "      <td>37.0</td>\n",
              "      <td>54.0</td>\n",
              "      <td>43.0</td>\n",
              "      <td>60.0</td>\n",
              "      <td>Sinais_Filtra_Cerveja_04_maio_2020.xlsx</td>\n",
              "      <td>04</td>\n",
              "      <td>21.0</td>\n",
              "      <td>00</td>\n",
              "      <td>00_04</td>\n",
              "      <td>2020-05-04 07:50:21</td>\n",
              "    </tr>\n",
              "    <tr>\n",
              "      <th>4</th>\n",
              "      <td>2020-05-04</td>\n",
              "      <td>07:50:28</td>\n",
              "      <td>15.55</td>\n",
              "      <td>15.573802</td>\n",
              "      <td>1996.0</td>\n",
              "      <td>11.067199</td>\n",
              "      <td>501.0</td>\n",
              "      <td>168.0</td>\n",
              "      <td>37.0</td>\n",
              "      <td>54.0</td>\n",
              "      <td>45.0</td>\n",
              "      <td>62.0</td>\n",
              "      <td>Sinais_Filtra_Cerveja_04_maio_2020.xlsx</td>\n",
              "      <td>04</td>\n",
              "      <td>28.0</td>\n",
              "      <td>00</td>\n",
              "      <td>00_04</td>\n",
              "      <td>2020-05-04 07:50:28</td>\n",
              "    </tr>\n",
              "    <tr>\n",
              "      <th>...</th>\n",
              "      <td>...</td>\n",
              "      <td>...</td>\n",
              "      <td>...</td>\n",
              "      <td>...</td>\n",
              "      <td>...</td>\n",
              "      <td>...</td>\n",
              "      <td>...</td>\n",
              "      <td>...</td>\n",
              "      <td>...</td>\n",
              "      <td>...</td>\n",
              "      <td>...</td>\n",
              "      <td>...</td>\n",
              "      <td>...</td>\n",
              "      <td>...</td>\n",
              "      <td>...</td>\n",
              "      <td>...</td>\n",
              "      <td>...</td>\n",
              "      <td>...</td>\n",
              "    </tr>\n",
              "    <tr>\n",
              "      <th>1995</th>\n",
              "      <td>2020-05-11</td>\n",
              "      <td>12:02:45</td>\n",
              "      <td>15.99</td>\n",
              "      <td>16.004203</td>\n",
              "      <td>5.0</td>\n",
              "      <td>10.359586</td>\n",
              "      <td>515.0</td>\n",
              "      <td>225.0</td>\n",
              "      <td>28.0</td>\n",
              "      <td>67.0</td>\n",
              "      <td>6.0</td>\n",
              "      <td>45.0</td>\n",
              "      <td>Sinais_Filtra_Cerveja_11_maio_2020.xlsx</td>\n",
              "      <td>11</td>\n",
              "      <td>13965.0</td>\n",
              "      <td>02</td>\n",
              "      <td>02_11</td>\n",
              "      <td>2020-05-11 12:02:45</td>\n",
              "    </tr>\n",
              "    <tr>\n",
              "      <th>1996</th>\n",
              "      <td>2020-05-11</td>\n",
              "      <td>12:02:52</td>\n",
              "      <td>15.99</td>\n",
              "      <td>15.952464</td>\n",
              "      <td>4.0</td>\n",
              "      <td>11.407815</td>\n",
              "      <td>515.0</td>\n",
              "      <td>225.0</td>\n",
              "      <td>28.0</td>\n",
              "      <td>67.0</td>\n",
              "      <td>4.0</td>\n",
              "      <td>43.0</td>\n",
              "      <td>Sinais_Filtra_Cerveja_11_maio_2020.xlsx</td>\n",
              "      <td>11</td>\n",
              "      <td>13972.0</td>\n",
              "      <td>02</td>\n",
              "      <td>02_11</td>\n",
              "      <td>2020-05-11 12:02:52</td>\n",
              "    </tr>\n",
              "    <tr>\n",
              "      <th>1997</th>\n",
              "      <td>2020-05-11</td>\n",
              "      <td>12:02:59</td>\n",
              "      <td>15.99</td>\n",
              "      <td>15.976097</td>\n",
              "      <td>3.0</td>\n",
              "      <td>10.286243</td>\n",
              "      <td>515.0</td>\n",
              "      <td>225.0</td>\n",
              "      <td>28.0</td>\n",
              "      <td>67.0</td>\n",
              "      <td>6.0</td>\n",
              "      <td>45.0</td>\n",
              "      <td>Sinais_Filtra_Cerveja_11_maio_2020.xlsx</td>\n",
              "      <td>11</td>\n",
              "      <td>13979.0</td>\n",
              "      <td>02</td>\n",
              "      <td>02_11</td>\n",
              "      <td>2020-05-11 12:02:59</td>\n",
              "    </tr>\n",
              "    <tr>\n",
              "      <th>1998</th>\n",
              "      <td>2020-05-11</td>\n",
              "      <td>12:03:06</td>\n",
              "      <td>15.99</td>\n",
              "      <td>15.955377</td>\n",
              "      <td>2.0</td>\n",
              "      <td>11.351130</td>\n",
              "      <td>515.0</td>\n",
              "      <td>225.0</td>\n",
              "      <td>28.0</td>\n",
              "      <td>67.0</td>\n",
              "      <td>4.0</td>\n",
              "      <td>43.0</td>\n",
              "      <td>Sinais_Filtra_Cerveja_11_maio_2020.xlsx</td>\n",
              "      <td>11</td>\n",
              "      <td>13986.0</td>\n",
              "      <td>02</td>\n",
              "      <td>02_11</td>\n",
              "      <td>2020-05-11 12:03:06</td>\n",
              "    </tr>\n",
              "    <tr>\n",
              "      <th>1999</th>\n",
              "      <td>2020-05-11</td>\n",
              "      <td>12:03:13</td>\n",
              "      <td>15.99</td>\n",
              "      <td>16.060258</td>\n",
              "      <td>1.0</td>\n",
              "      <td>10.174929</td>\n",
              "      <td>515.0</td>\n",
              "      <td>225.0</td>\n",
              "      <td>28.0</td>\n",
              "      <td>67.0</td>\n",
              "      <td>6.0</td>\n",
              "      <td>45.0</td>\n",
              "      <td>Sinais_Filtra_Cerveja_11_maio_2020.xlsx</td>\n",
              "      <td>11</td>\n",
              "      <td>13993.0</td>\n",
              "      <td>02</td>\n",
              "      <td>02_11</td>\n",
              "      <td>2020-05-11 12:03:13</td>\n",
              "    </tr>\n",
              "  </tbody>\n",
              "</table>\n",
              "<p>24000 rows × 18 columns</p>\n",
              "</div>"
            ],
            "text/plain": [
              "           Data      Hora  ...  Grupo_Dia           Data_Hora\n",
              "0    2020-05-04  07:50:00  ...      00_04 2020-05-04 07:50:00\n",
              "1    2020-05-04  07:50:07  ...      00_04 2020-05-04 07:50:07\n",
              "2    2020-05-04  07:50:14  ...      00_04 2020-05-04 07:50:14\n",
              "3    2020-05-04  07:50:21  ...      00_04 2020-05-04 07:50:21\n",
              "4    2020-05-04  07:50:28  ...      00_04 2020-05-04 07:50:28\n",
              "...         ...       ...  ...        ...                 ...\n",
              "1995 2020-05-11  12:02:45  ...      02_11 2020-05-11 12:02:45\n",
              "1996 2020-05-11  12:02:52  ...      02_11 2020-05-11 12:02:52\n",
              "1997 2020-05-11  12:02:59  ...      02_11 2020-05-11 12:02:59\n",
              "1998 2020-05-11  12:03:06  ...      02_11 2020-05-11 12:03:06\n",
              "1999 2020-05-11  12:03:13  ...      02_11 2020-05-11 12:03:13\n",
              "\n",
              "[24000 rows x 18 columns]"
            ]
          },
          "metadata": {
            "tags": []
          },
          "execution_count": 83
        }
      ]
    },
    {
      "cell_type": "markdown",
      "metadata": {
        "id": "nZHcHDf4Smtq"
      },
      "source": [
        "Refazendo a visualização inicial dos sinais."
      ]
    },
    {
      "cell_type": "code",
      "metadata": {
        "colab": {
          "base_uri": "https://localhost:8080/",
          "height": 692
        },
        "id": "IG51h0SsSnKC",
        "outputId": "5edafac3-2f0b-4ddf-a89a-43a9ccd91023"
      },
      "source": [
        "plt.figure(figsize = (15,5))\n",
        "\n",
        "g = sns.FacetGrid(df_1 , col=\"Grupo_Dia\", height=3, col_wrap=4)\n",
        "g.map(sns.lineplot, \"Tempo_Filtração_[segundos]\", \"Extrato_Primitivo_Filtrado\")\n",
        "\n",
        "plt.ylabel('Extr. Primitivo')"
      ],
      "execution_count": null,
      "outputs": [
        {
          "output_type": "execute_result",
          "data": {
            "text/plain": [
              "Text(677.2, 0.5, 'Extr. Primitivo')"
            ]
          },
          "metadata": {
            "tags": []
          },
          "execution_count": 152
        },
        {
          "output_type": "display_data",
          "data": {
            "text/plain": [
              "<Figure size 1080x360 with 0 Axes>"
            ]
          },
          "metadata": {
            "tags": []
          }
        },
        {
          "output_type": "display_data",
          "data": {
            "image/png": "[encoded data removed]",
            "text/plain": [
              "<Figure size 864x648 with 12 Axes>"
            ]
          },
          "metadata": {
            "tags": [],
            "needs_background": "light"
          }
        }
      ]
    },
    {
      "cell_type": "markdown",
      "metadata": {
        "id": "2s2KUzCFX_Bn"
      },
      "source": [
        "Selecionando os features a serem utilizados no processamento de sinais (opção 1)"
      ]
    },
    {
      "cell_type": "code",
      "metadata": {
        "id": "Ogwos4PQYFrT"
      },
      "source": [
        "df_SG_1 = df.pivot(index='Tempo_Filtração_[segundos]',columns='Grupo_Dia',values='Extrato_Primitivo_Filtrado') "
      ],
      "execution_count": null,
      "outputs": []
    },
    {
      "cell_type": "code",
      "metadata": {
        "colab": {
          "base_uri": "https://localhost:8080/",
          "height": 167
        },
        "id": "EhN28ErYYPa7",
        "outputId": "2fc8e93d-6271-437f-9d13-ddda496a775d"
      },
      "source": [
        "df_SG_1"
      ],
      "execution_count": null,
      "outputs": [
        {
          "output_type": "error",
          "ename": "NameError",
          "evalue": "ignored",
          "traceback": [
            "\u001b[0;31m---------------------------------------------------------------------------\u001b[0m",
            "\u001b[0;31mNameError\u001b[0m                                 Traceback (most recent call last)",
            "\u001b[0;32m<ipython-input-1-7f517bc8688e>\u001b[0m in \u001b[0;36m<module>\u001b[0;34m()\u001b[0m\n\u001b[0;32m----> 1\u001b[0;31m \u001b[0mdf_SG_1\u001b[0m\u001b[0;34m\u001b[0m\u001b[0;34m\u001b[0m\u001b[0m\n\u001b[0m",
            "\u001b[0;31mNameError\u001b[0m: name 'df_SG_1' is not defined"
          ]
        }
      ]
    },
    {
      "cell_type": "markdown",
      "metadata": {
        "id": "XwrybbV2YMxf"
      },
      "source": [
        "Selecionando os features a serem utilizados no processamento de sinais (opção 2)"
      ]
    },
    {
      "cell_type": "code",
      "metadata": {
        "colab": {
          "base_uri": "https://localhost:8080/",
          "height": 406
        },
        "id": "f7UIziMMMyW4",
        "outputId": "3257175c-bd7b-4ac1-daa2-b92a4d7fb857"
      },
      "source": [
        "df_SG_2 = df[[\"Data_Hora\",\"Extrato_Primitivo_Filtrado\"]]\n",
        "\n",
        "df_SG_2"
      ],
      "execution_count": null,
      "outputs": [
        {
          "output_type": "execute_result",
          "data": {
            "text/html": [
              "<div>\n",
              "<style scoped>\n",
              "    .dataframe tbody tr th:only-of-type {\n",
              "        vertical-align: middle;\n",
              "    }\n",
              "\n",
              "    .dataframe tbody tr th {\n",
              "        vertical-align: top;\n",
              "    }\n",
              "\n",
              "    .dataframe thead th {\n",
              "        text-align: right;\n",
              "    }\n",
              "</style>\n",
              "<table border=\"1\" class=\"dataframe\">\n",
              "  <thead>\n",
              "    <tr style=\"text-align: right;\">\n",
              "      <th></th>\n",
              "      <th>Data_Hora</th>\n",
              "      <th>Extrato_Primitivo_Filtrado</th>\n",
              "    </tr>\n",
              "  </thead>\n",
              "  <tbody>\n",
              "    <tr>\n",
              "      <th>0</th>\n",
              "      <td>2020-05-04 07:50:00</td>\n",
              "      <td>11.661723</td>\n",
              "    </tr>\n",
              "    <tr>\n",
              "      <th>1</th>\n",
              "      <td>2020-05-04 07:50:07</td>\n",
              "      <td>11.523376</td>\n",
              "    </tr>\n",
              "    <tr>\n",
              "      <th>2</th>\n",
              "      <td>2020-05-04 07:50:14</td>\n",
              "      <td>11.333884</td>\n",
              "    </tr>\n",
              "    <tr>\n",
              "      <th>3</th>\n",
              "      <td>2020-05-04 07:50:21</td>\n",
              "      <td>11.228191</td>\n",
              "    </tr>\n",
              "    <tr>\n",
              "      <th>4</th>\n",
              "      <td>2020-05-04 07:50:28</td>\n",
              "      <td>11.067199</td>\n",
              "    </tr>\n",
              "    <tr>\n",
              "      <th>...</th>\n",
              "      <td>...</td>\n",
              "      <td>...</td>\n",
              "    </tr>\n",
              "    <tr>\n",
              "      <th>1995</th>\n",
              "      <td>2020-05-11 12:02:45</td>\n",
              "      <td>10.359586</td>\n",
              "    </tr>\n",
              "    <tr>\n",
              "      <th>1996</th>\n",
              "      <td>2020-05-11 12:02:52</td>\n",
              "      <td>11.407815</td>\n",
              "    </tr>\n",
              "    <tr>\n",
              "      <th>1997</th>\n",
              "      <td>2020-05-11 12:02:59</td>\n",
              "      <td>10.286243</td>\n",
              "    </tr>\n",
              "    <tr>\n",
              "      <th>1998</th>\n",
              "      <td>2020-05-11 12:03:06</td>\n",
              "      <td>11.351130</td>\n",
              "    </tr>\n",
              "    <tr>\n",
              "      <th>1999</th>\n",
              "      <td>2020-05-11 12:03:13</td>\n",
              "      <td>10.174929</td>\n",
              "    </tr>\n",
              "  </tbody>\n",
              "</table>\n",
              "<p>24000 rows × 2 columns</p>\n",
              "</div>"
            ],
            "text/plain": [
              "               Data_Hora  Extrato_Primitivo_Filtrado\n",
              "0    2020-05-04 07:50:00                   11.661723\n",
              "1    2020-05-04 07:50:07                   11.523376\n",
              "2    2020-05-04 07:50:14                   11.333884\n",
              "3    2020-05-04 07:50:21                   11.228191\n",
              "4    2020-05-04 07:50:28                   11.067199\n",
              "...                  ...                         ...\n",
              "1995 2020-05-11 12:02:45                   10.359586\n",
              "1996 2020-05-11 12:02:52                   11.407815\n",
              "1997 2020-05-11 12:02:59                   10.286243\n",
              "1998 2020-05-11 12:03:06                   11.351130\n",
              "1999 2020-05-11 12:03:13                   10.174929\n",
              "\n",
              "[24000 rows x 2 columns]"
            ]
          },
          "metadata": {
            "tags": []
          },
          "execution_count": 95
        }
      ]
    },
    {
      "cell_type": "markdown",
      "metadata": {
        "id": "oUmTCYKnb55u"
      },
      "source": [
        "#(3) Realizar o processamento do sinal"
      ]
    },
    {
      "cell_type": "markdown",
      "metadata": {
        "id": "M0V7W1RRb_Qq"
      },
      "source": [
        "- Estratégia de execução sinal a sinal"
      ]
    },
    {
      "cell_type": "code",
      "metadata": {
        "id": "YzkQP7dqcFcA"
      },
      "source": [
        "data = df_SG_1"
      ],
      "execution_count": null,
      "outputs": []
    },
    {
      "cell_type": "markdown",
      "metadata": {
        "id": "6hQ0TG9Bekxu"
      },
      "source": [
        "#- variável signal e t"
      ]
    },
    {
      "cell_type": "code",
      "metadata": {
        "id": "GKALdqhFcVtn"
      },
      "source": [
        "T = 14\n",
        "t= T * data.index.values\n",
        "#t= pd.DataFrame(t)\n",
        "signal = data.iloc[:, 0:]\n",
        "signal.reset_index(inplace=True, drop=True)"
      ],
      "execution_count": null,
      "outputs": []
    },
    {
      "cell_type": "code",
      "metadata": {
        "colab": {
          "base_uri": "https://localhost:8080/"
        },
        "id": "DCxDr58kclAt",
        "outputId": "b457739c-ec50-4eaf-b532-0a26da54cc2b"
      },
      "source": [
        "t"
      ],
      "execution_count": null,
      "outputs": [
        {
          "output_type": "execute_result",
          "data": {
            "text/plain": [
              "array([-0.00000e+00,  9.80000e+01,  1.96000e+02, ...,  1.95706e+05,\n",
              "        1.95804e+05,  1.95902e+05])"
            ]
          },
          "metadata": {
            "tags": []
          },
          "execution_count": 126
        }
      ]
    },
    {
      "cell_type": "code",
      "metadata": {
        "colab": {
          "base_uri": "https://localhost:8080/",
          "height": 406
        },
        "id": "_zbDxXkSdJOp",
        "outputId": "c29d1e40-a433-459c-84af-e37a933647a1"
      },
      "source": [
        "signal"
      ],
      "execution_count": null,
      "outputs": [
        {
          "output_type": "execute_result",
          "data": {
            "text/html": [
              "<div>\n",
              "<style scoped>\n",
              "    .dataframe tbody tr th:only-of-type {\n",
              "        vertical-align: middle;\n",
              "    }\n",
              "\n",
              "    .dataframe tbody tr th {\n",
              "        vertical-align: top;\n",
              "    }\n",
              "\n",
              "    .dataframe thead th {\n",
              "        text-align: right;\n",
              "    }\n",
              "</style>\n",
              "<table border=\"1\" class=\"dataframe\">\n",
              "  <thead>\n",
              "    <tr style=\"text-align: right;\">\n",
              "      <th>Grupo_Dia</th>\n",
              "      <th>00_04</th>\n",
              "      <th>00_08</th>\n",
              "      <th>00_12</th>\n",
              "      <th>00_13</th>\n",
              "      <th>01_07</th>\n",
              "      <th>01_14</th>\n",
              "      <th>01_15</th>\n",
              "      <th>01_16</th>\n",
              "      <th>02_05</th>\n",
              "      <th>02_06</th>\n",
              "      <th>02_09</th>\n",
              "      <th>02_11</th>\n",
              "    </tr>\n",
              "  </thead>\n",
              "  <tbody>\n",
              "    <tr>\n",
              "      <th>0</th>\n",
              "      <td>11.661723</td>\n",
              "      <td>11.872356</td>\n",
              "      <td>11.655068</td>\n",
              "      <td>11.683282</td>\n",
              "      <td>10.442112</td>\n",
              "      <td>10.522725</td>\n",
              "      <td>10.506263</td>\n",
              "      <td>10.480612</td>\n",
              "      <td>11.095096</td>\n",
              "      <td>11.159579</td>\n",
              "      <td>11.143045</td>\n",
              "      <td>11.090406</td>\n",
              "    </tr>\n",
              "    <tr>\n",
              "      <th>1</th>\n",
              "      <td>11.523376</td>\n",
              "      <td>11.758616</td>\n",
              "      <td>11.427112</td>\n",
              "      <td>11.489288</td>\n",
              "      <td>10.637640</td>\n",
              "      <td>10.660738</td>\n",
              "      <td>10.711195</td>\n",
              "      <td>10.650508</td>\n",
              "      <td>11.311260</td>\n",
              "      <td>10.962869</td>\n",
              "      <td>11.347284</td>\n",
              "      <td>11.353288</td>\n",
              "    </tr>\n",
              "    <tr>\n",
              "      <th>2</th>\n",
              "      <td>11.333884</td>\n",
              "      <td>11.597537</td>\n",
              "      <td>11.357539</td>\n",
              "      <td>11.406756</td>\n",
              "      <td>10.871773</td>\n",
              "      <td>10.903975</td>\n",
              "      <td>10.926532</td>\n",
              "      <td>10.844326</td>\n",
              "      <td>11.123523</td>\n",
              "      <td>11.100590</td>\n",
              "      <td>11.092353</td>\n",
              "      <td>11.103273</td>\n",
              "    </tr>\n",
              "    <tr>\n",
              "      <th>3</th>\n",
              "      <td>11.228191</td>\n",
              "      <td>11.432429</td>\n",
              "      <td>11.221885</td>\n",
              "      <td>11.273863</td>\n",
              "      <td>11.012792</td>\n",
              "      <td>11.074697</td>\n",
              "      <td>11.152558</td>\n",
              "      <td>11.076785</td>\n",
              "      <td>11.388632</td>\n",
              "      <td>11.383749</td>\n",
              "      <td>11.353361</td>\n",
              "      <td>11.332851</td>\n",
              "    </tr>\n",
              "    <tr>\n",
              "      <th>4</th>\n",
              "      <td>11.067199</td>\n",
              "      <td>11.300706</td>\n",
              "      <td>11.082804</td>\n",
              "      <td>11.102446</td>\n",
              "      <td>11.259128</td>\n",
              "      <td>11.271889</td>\n",
              "      <td>11.314418</td>\n",
              "      <td>11.268883</td>\n",
              "      <td>11.161780</td>\n",
              "      <td>11.131070</td>\n",
              "      <td>11.130805</td>\n",
              "      <td>11.131089</td>\n",
              "    </tr>\n",
              "    <tr>\n",
              "      <th>...</th>\n",
              "      <td>...</td>\n",
              "      <td>...</td>\n",
              "      <td>...</td>\n",
              "      <td>...</td>\n",
              "      <td>...</td>\n",
              "      <td>...</td>\n",
              "      <td>...</td>\n",
              "      <td>...</td>\n",
              "      <td>...</td>\n",
              "      <td>...</td>\n",
              "      <td>...</td>\n",
              "      <td>...</td>\n",
              "    </tr>\n",
              "    <tr>\n",
              "      <th>1995</th>\n",
              "      <td>11.100595</td>\n",
              "      <td>11.201373</td>\n",
              "      <td>11.060749</td>\n",
              "      <td>11.318692</td>\n",
              "      <td>10.981986</td>\n",
              "      <td>11.041964</td>\n",
              "      <td>11.128624</td>\n",
              "      <td>11.028113</td>\n",
              "      <td>10.302122</td>\n",
              "      <td>10.465963</td>\n",
              "      <td>10.369851</td>\n",
              "      <td>10.359586</td>\n",
              "    </tr>\n",
              "    <tr>\n",
              "      <th>1996</th>\n",
              "      <td>11.258188</td>\n",
              "      <td>10.976649</td>\n",
              "      <td>11.224631</td>\n",
              "      <td>11.111709</td>\n",
              "      <td>11.197530</td>\n",
              "      <td>11.277434</td>\n",
              "      <td>11.375029</td>\n",
              "      <td>11.208461</td>\n",
              "      <td>11.364915</td>\n",
              "      <td>11.555865</td>\n",
              "      <td>11.396145</td>\n",
              "      <td>11.407815</td>\n",
              "    </tr>\n",
              "    <tr>\n",
              "      <th>1997</th>\n",
              "      <td>11.158113</td>\n",
              "      <td>11.123296</td>\n",
              "      <td>11.069185</td>\n",
              "      <td>11.308526</td>\n",
              "      <td>11.007013</td>\n",
              "      <td>11.058784</td>\n",
              "      <td>11.061777</td>\n",
              "      <td>10.992927</td>\n",
              "      <td>10.208332</td>\n",
              "      <td>10.408059</td>\n",
              "      <td>10.330621</td>\n",
              "      <td>10.286243</td>\n",
              "    </tr>\n",
              "    <tr>\n",
              "      <th>1998</th>\n",
              "      <td>10.967355</td>\n",
              "      <td>11.264263</td>\n",
              "      <td>11.220050</td>\n",
              "      <td>11.120375</td>\n",
              "      <td>11.201516</td>\n",
              "      <td>11.264127</td>\n",
              "      <td>11.324061</td>\n",
              "      <td>11.234906</td>\n",
              "      <td>11.348853</td>\n",
              "      <td>11.420407</td>\n",
              "      <td>11.401467</td>\n",
              "      <td>11.351130</td>\n",
              "    </tr>\n",
              "    <tr>\n",
              "      <th>1999</th>\n",
              "      <td>11.116443</td>\n",
              "      <td>11.171119</td>\n",
              "      <td>11.078325</td>\n",
              "      <td>11.358775</td>\n",
              "      <td>10.947226</td>\n",
              "      <td>11.078475</td>\n",
              "      <td>11.137507</td>\n",
              "      <td>11.002727</td>\n",
              "      <td>10.111195</td>\n",
              "      <td>10.289939</td>\n",
              "      <td>10.249062</td>\n",
              "      <td>10.174929</td>\n",
              "    </tr>\n",
              "  </tbody>\n",
              "</table>\n",
              "<p>2000 rows × 12 columns</p>\n",
              "</div>"
            ],
            "text/plain": [
              "Grupo_Dia      00_04      00_08      00_12  ...      02_06      02_09      02_11\n",
              "0          11.661723  11.872356  11.655068  ...  11.159579  11.143045  11.090406\n",
              "1          11.523376  11.758616  11.427112  ...  10.962869  11.347284  11.353288\n",
              "2          11.333884  11.597537  11.357539  ...  11.100590  11.092353  11.103273\n",
              "3          11.228191  11.432429  11.221885  ...  11.383749  11.353361  11.332851\n",
              "4          11.067199  11.300706  11.082804  ...  11.131070  11.130805  11.131089\n",
              "...              ...        ...        ...  ...        ...        ...        ...\n",
              "1995       11.100595  11.201373  11.060749  ...  10.465963  10.369851  10.359586\n",
              "1996       11.258188  10.976649  11.224631  ...  11.555865  11.396145  11.407815\n",
              "1997       11.158113  11.123296  11.069185  ...  10.408059  10.330621  10.286243\n",
              "1998       10.967355  11.264263  11.220050  ...  11.420407  11.401467  11.351130\n",
              "1999       11.116443  11.171119  11.078325  ...  10.289939  10.249062  10.174929\n",
              "\n",
              "[2000 rows x 12 columns]"
            ]
          },
          "metadata": {
            "tags": []
          },
          "execution_count": 127
        }
      ]
    },
    {
      "cell_type": "code",
      "metadata": {
        "colab": {
          "base_uri": "https://localhost:8080/",
          "height": 441
        },
        "id": "KzfcsAv0de2q",
        "outputId": "643abfc0-09ce-47fe-9fa6-4a7f2474464e"
      },
      "source": [
        "fig = plt.figure(figsize=(10, 5), dpi=72)\n",
        "axes = fig.add_axes([0.01, 0.01, .98, 0.98])\n",
        "\n",
        "plt.plot( t , signal )\n",
        "\n",
        "plt.xlabel( \"time [seconds]\" )\n",
        "plt.ylabel( \"Extrato Primitivo filtrado\" )\n",
        "plt.title( \" Filtration time [s] \" )\n",
        "\n",
        "plt.grid()\n",
        "plt.show()"
      ],
      "execution_count": null,
      "outputs": [
        {
          "output_type": "display_data",
          "data": {
            "image/png": "[encoded data removed]",
            "text/plain": [
              "<Figure size 720x360 with 1 Axes>"
            ]
          },
          "metadata": {
            "tags": [],
            "needs_background": "light"
          }
        }
      ]
    },
    {
      "cell_type": "markdown",
      "metadata": {
        "id": "TkBqkajNeyGc"
      },
      "source": [
        "#- domínio da frequência"
      ]
    },
    {
      "cell_type": "code",
      "metadata": {
        "colab": {
          "base_uri": "https://localhost:8080/"
        },
        "id": "WrvWl-a4gCJC",
        "outputId": "f61e3075-0599-41b4-f8f9-9422d5a4d349"
      },
      "source": [
        "signal.iloc[:, 0]"
      ],
      "execution_count": null,
      "outputs": [
        {
          "output_type": "execute_result",
          "data": {
            "text/plain": [
              "0       11.661723\n",
              "1       11.523376\n",
              "2       11.333884\n",
              "3       11.228191\n",
              "4       11.067199\n",
              "          ...    \n",
              "1995    11.100595\n",
              "1996    11.258188\n",
              "1997    11.158113\n",
              "1998    10.967355\n",
              "1999    11.116443\n",
              "Name: 00_04, Length: 2000, dtype: float64"
            ]
          },
          "metadata": {
            "tags": []
          },
          "execution_count": 131
        }
      ]
    },
    {
      "cell_type": "code",
      "metadata": {
        "id": "0vM44wD5e8a0"
      },
      "source": [
        "# The FFT of the signal\n",
        "signal_fft = sp.fftpack.fft( signal.iloc[:, 0].values )\n",
        "\n",
        "# Power spectral density (PSD) estimate\n",
        "power = np.abs(signal_fft)**2\n",
        "\n",
        "# The corresponding frequencies\n",
        "#sample_freq = sp.fftpack.fftfreq(signal.size, d=time_step)\n",
        "sample_freq = sp.fftpack.fftfreq(len(signal.iloc[:,0]), d=T)"
      ],
      "execution_count": null,
      "outputs": []
    },
    {
      "cell_type": "code",
      "metadata": {
        "colab": {
          "base_uri": "https://localhost:8080/",
          "height": 355
        },
        "id": "AdkqIr05fCLS",
        "outputId": "67a5de1d-8b39-467f-f519-6408d7a9d1bd"
      },
      "source": [
        "# Plot the FFT power\n",
        "plt.figure(figsize=(6, 5))\n",
        "plt.plot(sample_freq, power)\n",
        "plt.xlabel('Frequency [Hz]')\n",
        "plt.ylabel('Power')\n",
        "plt.show()"
      ],
      "execution_count": null,
      "outputs": [
        {
          "output_type": "display_data",
          "data": {
            "image/png": "[encoded data removed]",
            "text/plain": [
              "<Figure size 432x360 with 1 Axes>"
            ]
          },
          "metadata": {
            "tags": [],
            "needs_background": "light"
          }
        }
      ]
    },
    {
      "cell_type": "code",
      "metadata": {
        "colab": {
          "base_uri": "https://localhost:8080/",
          "height": 305
        },
        "id": "FnckLiTriFYm",
        "outputId": "2560d55e-e93e-4153-b3c8-062b5aab9df0"
      },
      "source": [
        "#To only obtain the positive frequencies...\n",
        "i = sample_freq > 0\n",
        "#We now plot the power spectral density of our signal, \n",
        "#as a function of the frequency (in unit of 1/year). We choose a logarithmic scale for the y axis (decibels):\n",
        "fig, ax = plt.subplots(1, 1, figsize=(8, 4))\n",
        "ax.plot(sample_freq[i], 10 * np.log10(power[i]))\n",
        "ax.set_xlim(0, 20)\n",
        "ax.set_xlabel('Frequency (Hz)')\n",
        "ax.set_ylabel('PSD (dB)')\n",
        "ax.set_title( \"Periodogram using FFT\" )\n",
        "plt.show()"
      ],
      "execution_count": null,
      "outputs": [
        {
          "output_type": "display_data",
          "data": {
            "image/png": "[encoded data removed]",
            "text/plain": [
              "<Figure size 576x288 with 1 Axes>"
            ]
          },
          "metadata": {
            "tags": [],
            "needs_background": "light"
          }
        }
      ]
    },
    {
      "cell_type": "code",
      "metadata": {
        "colab": {
          "base_uri": "https://localhost:8080/"
        },
        "id": "Hl6ThxDiiQCM",
        "outputId": "e96c46e6-6bee-4a59-dd94-b9aa3397b1c2"
      },
      "source": [
        "# Find the peak frequency: we can focus on only the positive frequencies\n",
        "pos_mask = np.where(sample_freq > 0)\n",
        "freqs = sample_freq[pos_mask]\n",
        "peak_freq = freqs[power[pos_mask].argmax()]\n",
        "print(peak_freq)"
      ],
      "execution_count": null,
      "outputs": [
        {
          "output_type": "stream",
          "text": [
            "0.035678571428571434\n"
          ],
          "name": "stdout"
        }
      ]
    },
    {
      "cell_type": "markdown",
      "metadata": {
        "id": "RQBI_iJkiq6O"
      },
      "source": [
        "#Filtering a signal"
      ]
    },
    {
      "cell_type": "code",
      "metadata": {
        "id": "zIFIMhN_iSNw"
      },
      "source": [
        "my_sig=signal[:,0].values"
      ],
      "execution_count": null,
      "outputs": []
    },
    {
      "cell_type": "markdown",
      "metadata": {
        "id": "tq9KP35LjABg"
      },
      "source": [
        "def butter_bandpass  # sessão de funções"
      ]
    },
    {
      "cell_type": "markdown",
      "metadata": {
        "id": "bgVS3vjZjGtj"
      },
      "source": [
        "def butter_bandpass_filter # sessão de funções"
      ]
    },
    {
      "cell_type": "code",
      "metadata": {
        "colab": {
          "base_uri": "https://localhost:8080/",
          "height": 381
        },
        "id": "XFyv0MXfi6e1",
        "outputId": "86243f37-873c-4a68-bf1c-ac39ad2e72de"
      },
      "source": [
        "# Sample rate and desired cutoff frequencies (in Hz).\n",
        "fs = 5000.0\n",
        "lowcut = 500.0\n",
        "highcut = 1250.0\n",
        "\n",
        "# Plot the frequency response for a few different orders.\n",
        "plt.figure(1)\n",
        "plt.clf()\n",
        "for order in [3, 6, 9]:\n",
        "    b, a = butter_bandpass_filter(lowcut, highcut, fs, order=order) # não existe algumas funções no código exemplo (butter é uma delas)\n",
        "    w, h = freqz(b, a, worN=2000)\n",
        "    plt.plot((fs * 0.5 / np.pi) * w, abs(h), label=\"order = %d\" % order)\n",
        "\n",
        "plt.plot([0, 0.5 * fs], [np.sqrt(0.5), np.sqrt(0.5)],\n",
        "         '--', label='sqrt(0.5)')\n",
        "plt.xlabel('Frequency (Hz)')\n",
        "plt.ylabel('Gain')\n",
        "plt.grid(True)\n",
        "plt.legend(loc='best')\n",
        "\n",
        "plt.show()"
      ],
      "execution_count": null,
      "outputs": [
        {
          "output_type": "error",
          "ename": "NameError",
          "evalue": "ignored",
          "traceback": [
            "\u001b[0;31m---------------------------------------------------------------------------\u001b[0m",
            "\u001b[0;31mNameError\u001b[0m                                 Traceback (most recent call last)",
            "\u001b[0;32m<ipython-input-151-5c378960e7f7>\u001b[0m in \u001b[0;36m<module>\u001b[0;34m()\u001b[0m\n\u001b[1;32m      8\u001b[0m \u001b[0mplt\u001b[0m\u001b[0;34m.\u001b[0m\u001b[0mclf\u001b[0m\u001b[0;34m(\u001b[0m\u001b[0;34m)\u001b[0m\u001b[0;34m\u001b[0m\u001b[0;34m\u001b[0m\u001b[0m\n\u001b[1;32m      9\u001b[0m \u001b[0;32mfor\u001b[0m \u001b[0morder\u001b[0m \u001b[0;32min\u001b[0m \u001b[0;34m[\u001b[0m\u001b[0;36m3\u001b[0m\u001b[0;34m,\u001b[0m \u001b[0;36m6\u001b[0m\u001b[0;34m,\u001b[0m \u001b[0;36m9\u001b[0m\u001b[0;34m]\u001b[0m\u001b[0;34m:\u001b[0m\u001b[0;34m\u001b[0m\u001b[0;34m\u001b[0m\u001b[0m\n\u001b[0;32m---> 10\u001b[0;31m     \u001b[0mb\u001b[0m\u001b[0;34m,\u001b[0m \u001b[0ma\u001b[0m \u001b[0;34m=\u001b[0m \u001b[0mb_bandpass\u001b[0m\u001b[0;34m(\u001b[0m\u001b[0mlowcut\u001b[0m\u001b[0;34m,\u001b[0m \u001b[0mhighcut\u001b[0m\u001b[0;34m,\u001b[0m \u001b[0mfs\u001b[0m\u001b[0;34m,\u001b[0m \u001b[0morder\u001b[0m\u001b[0;34m=\u001b[0m\u001b[0morder\u001b[0m\u001b[0;34m)\u001b[0m\u001b[0;34m\u001b[0m\u001b[0;34m\u001b[0m\u001b[0m\n\u001b[0m\u001b[1;32m     11\u001b[0m     \u001b[0mw\u001b[0m\u001b[0;34m,\u001b[0m \u001b[0mh\u001b[0m \u001b[0;34m=\u001b[0m \u001b[0mfreqz\u001b[0m\u001b[0;34m(\u001b[0m\u001b[0mb\u001b[0m\u001b[0;34m,\u001b[0m \u001b[0ma\u001b[0m\u001b[0;34m,\u001b[0m \u001b[0mworN\u001b[0m\u001b[0;34m=\u001b[0m\u001b[0;36m2000\u001b[0m\u001b[0;34m)\u001b[0m\u001b[0;34m\u001b[0m\u001b[0;34m\u001b[0m\u001b[0m\n\u001b[1;32m     12\u001b[0m     \u001b[0mplt\u001b[0m\u001b[0;34m.\u001b[0m\u001b[0mplot\u001b[0m\u001b[0;34m(\u001b[0m\u001b[0;34m(\u001b[0m\u001b[0mfs\u001b[0m \u001b[0;34m*\u001b[0m \u001b[0;36m0.5\u001b[0m \u001b[0;34m/\u001b[0m \u001b[0mnp\u001b[0m\u001b[0;34m.\u001b[0m\u001b[0mpi\u001b[0m\u001b[0;34m)\u001b[0m \u001b[0;34m*\u001b[0m \u001b[0mw\u001b[0m\u001b[0;34m,\u001b[0m \u001b[0mabs\u001b[0m\u001b[0;34m(\u001b[0m\u001b[0mh\u001b[0m\u001b[0;34m)\u001b[0m\u001b[0;34m,\u001b[0m \u001b[0mlabel\u001b[0m\u001b[0;34m=\u001b[0m\u001b[0;34m\"order = %d\"\u001b[0m \u001b[0;34m%\u001b[0m \u001b[0morder\u001b[0m\u001b[0;34m)\u001b[0m\u001b[0;34m\u001b[0m\u001b[0;34m\u001b[0m\u001b[0m\n",
            "\u001b[0;32m<ipython-input-150-b456db87b9e7>\u001b[0m in \u001b[0;36mb_bandpass\u001b[0;34m(lowcut, highcut, fs, order)\u001b[0m\n\u001b[1;32m      3\u001b[0m     \u001b[0mlow\u001b[0m \u001b[0;34m=\u001b[0m \u001b[0mlowcut\u001b[0m \u001b[0;34m/\u001b[0m \u001b[0mnyq\u001b[0m\u001b[0;34m\u001b[0m\u001b[0;34m\u001b[0m\u001b[0m\n\u001b[1;32m      4\u001b[0m     \u001b[0mhigh\u001b[0m \u001b[0;34m=\u001b[0m \u001b[0mhighcut\u001b[0m \u001b[0;34m/\u001b[0m \u001b[0mnyq\u001b[0m\u001b[0;34m\u001b[0m\u001b[0;34m\u001b[0m\u001b[0m\n\u001b[0;32m----> 5\u001b[0;31m     \u001b[0mb\u001b[0m\u001b[0;34m,\u001b[0m \u001b[0ma\u001b[0m \u001b[0;34m=\u001b[0m \u001b[0mbutter\u001b[0m\u001b[0;34m(\u001b[0m\u001b[0morder\u001b[0m\u001b[0;34m,\u001b[0m \u001b[0;34m[\u001b[0m\u001b[0mlow\u001b[0m\u001b[0;34m,\u001b[0m \u001b[0mhigh\u001b[0m\u001b[0;34m]\u001b[0m\u001b[0;34m,\u001b[0m \u001b[0mbtype\u001b[0m\u001b[0;34m=\u001b[0m\u001b[0;34m'band'\u001b[0m\u001b[0;34m)\u001b[0m\u001b[0;34m\u001b[0m\u001b[0;34m\u001b[0m\u001b[0m\n\u001b[0m\u001b[1;32m      6\u001b[0m     \u001b[0;32mreturn\u001b[0m \u001b[0mb\u001b[0m\u001b[0;34m,\u001b[0m \u001b[0ma\u001b[0m\u001b[0;34m\u001b[0m\u001b[0;34m\u001b[0m\u001b[0m\n\u001b[1;32m      7\u001b[0m \u001b[0;34m\u001b[0m\u001b[0m\n",
            "\u001b[0;31mNameError\u001b[0m: name 'butter' is not defined"
          ]
        },
        {
          "output_type": "display_data",
          "data": {
            "text/plain": [
              "<Figure size 432x288 with 0 Axes>"
            ]
          },
          "metadata": {
            "tags": []
          }
        }
      ]
    }
  ]
}
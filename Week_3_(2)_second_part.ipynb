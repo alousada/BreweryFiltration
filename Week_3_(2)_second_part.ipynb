{
  "nbformat": 4,
  "nbformat_minor": 0,
  "metadata": {
    "colab": {
      "name": "Week_3_(1)_first_part.ipynb",
      "provenance": [],
      "collapsed_sections": [],
      "include_colab_link": true
    },
    "kernelspec": {
      "display_name": "Python 3",
      "name": "python3"
    }
  },
  "cells": [
    {
      "cell_type": "markdown",
      "metadata": {
        "id": "view-in-github",
        "colab_type": "text"
      },
      "source": [
        "<a href=\"https://colab.research.google.com/github/alousada/BreweryFiltration/blob/main/Week_3_(2)_second_part.ipynb\" target=\"_parent\"><img src=\"https://colab.research.google.com/assets/colab-badge.svg\" alt=\"Open In Colab\"/></a>"
      ]
    },
    {
      "cell_type": "markdown",
      "metadata": {
        "id": "5fCEDCU_qrC0"
      },
      "source": [
        "<p><img alt=\"\" src=\"data:image/x-icon;base64,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\"  height=\"70px\" align=\"left\" hspace=\"10px\" vspace=\"0px\"></p>\n",
        "\n",
        "<h1>Segmenting and Clustering Neighborhoods on Toronto</h1>\n",
        "\n",
        "This script will retrieve the coordinates from the processed file (orignial source Wikipedia). \n",
        "\n",
        "The main requisite : \n",
        "\n",
        "-  we will get the latitude and the longitude coordinates of each neighborhood.\n",
        "\n",
        " Wikipedia : https://en.wikipedia.org/wiki/List_of_postal_codes_of_Canada:_M\n",
        " "
      ]
    },
    {
      "cell_type": "markdown",
      "metadata": {
        "id": "8IqzfTgWwA3y"
      },
      "source": [
        "\n",
        "# Import Libraries\n"
      ]
    },
    {
      "cell_type": "code",
      "metadata": {
        "id": "Y2pCaANRwBif",
        "colab": {
          "base_uri": "https://localhost:8080/"
        },
        "outputId": "b6755788-67f4-416c-ee0c-15c9ad25f9b6"
      },
      "source": [
        "import pandas as pd\n",
        "import numpy as np\n",
        "import matplotlib.pyplot as plt\n",
        "%config IPCompleter.greedy=True\n",
        "%config IPCompleter.use_jedi=False\n",
        "\n",
        "print('Libraries imported.')"
      ],
      "execution_count": 1,
      "outputs": [
        {
          "output_type": "stream",
          "text": [
            "Libraries imported.\n"
          ],
          "name": "stdout"
        },
        {
          "output_type": "stream",
          "text": [
            "/usr/local/lib/python3.7/dist-packages/ipykernel_launcher.py:5: UserWarning: Config option `use_jedi` not recognized by `IPCompleter`.\n",
            "  \"\"\"\n"
          ],
          "name": "stderr"
        }
      ]
    },
    {
      "cell_type": "markdown",
      "metadata": {
        "id": "yJ8dFknDySwn"
      },
      "source": [
        "# Load the Data"
      ]
    },
    {
      "cell_type": "code",
      "metadata": {
        "colab": {
          "base_uri": "https://localhost:8080/",
          "height": 441
        },
        "id": "-IDOyyDJyRcz",
        "outputId": "2617919a-1b87-42d7-d1a3-96330bc29547"
      },
      "source": [
        "df2 = pd.read_csv('postal_codes_toronto.csv')\n",
        "del df2['Unnamed: 0']\n",
        "#print(toronto_df.shape)\n",
        "df2.head()\n"
      ],
      "execution_count": 2,
      "outputs": [
        {
          "output_type": "error",
          "ename": "FileNotFoundError",
          "evalue": "ignored",
          "traceback": [
            "\u001b[0;31m---------------------------------------------------------------------------\u001b[0m",
            "\u001b[0;31mFileNotFoundError\u001b[0m                         Traceback (most recent call last)",
            "\u001b[0;32m<ipython-input-2-a5a6d1d31f77>\u001b[0m in \u001b[0;36m<module>\u001b[0;34m()\u001b[0m\n\u001b[0;32m----> 1\u001b[0;31m \u001b[0mdf2\u001b[0m \u001b[0;34m=\u001b[0m \u001b[0mpd\u001b[0m\u001b[0;34m.\u001b[0m\u001b[0mread_csv\u001b[0m\u001b[0;34m(\u001b[0m\u001b[0;34m'postal_codes_toronto.csv'\u001b[0m\u001b[0;34m)\u001b[0m\u001b[0;34m\u001b[0m\u001b[0;34m\u001b[0m\u001b[0m\n\u001b[0m\u001b[1;32m      2\u001b[0m \u001b[0;32mdel\u001b[0m \u001b[0mdf2\u001b[0m\u001b[0;34m[\u001b[0m\u001b[0;34m'Unnamed: 0'\u001b[0m\u001b[0;34m]\u001b[0m\u001b[0;34m\u001b[0m\u001b[0;34m\u001b[0m\u001b[0m\n\u001b[1;32m      3\u001b[0m \u001b[0;31m#print(toronto_df.shape)\u001b[0m\u001b[0;34m\u001b[0m\u001b[0;34m\u001b[0m\u001b[0;34m\u001b[0m\u001b[0m\n\u001b[1;32m      4\u001b[0m \u001b[0mdf2\u001b[0m\u001b[0;34m.\u001b[0m\u001b[0mhead\u001b[0m\u001b[0;34m(\u001b[0m\u001b[0;34m)\u001b[0m\u001b[0;34m\u001b[0m\u001b[0;34m\u001b[0m\u001b[0m\n",
            "\u001b[0;32m/usr/local/lib/python3.7/dist-packages/pandas/io/parsers.py\u001b[0m in \u001b[0;36mread_csv\u001b[0;34m(filepath_or_buffer, sep, delimiter, header, names, index_col, usecols, squeeze, prefix, mangle_dupe_cols, dtype, engine, converters, true_values, false_values, skipinitialspace, skiprows, skipfooter, nrows, na_values, keep_default_na, na_filter, verbose, skip_blank_lines, parse_dates, infer_datetime_format, keep_date_col, date_parser, dayfirst, cache_dates, iterator, chunksize, compression, thousands, decimal, lineterminator, quotechar, quoting, doublequote, escapechar, comment, encoding, dialect, error_bad_lines, warn_bad_lines, delim_whitespace, low_memory, memory_map, float_precision)\u001b[0m\n\u001b[1;32m    686\u001b[0m     )\n\u001b[1;32m    687\u001b[0m \u001b[0;34m\u001b[0m\u001b[0m\n\u001b[0;32m--> 688\u001b[0;31m     \u001b[0;32mreturn\u001b[0m \u001b[0m_read\u001b[0m\u001b[0;34m(\u001b[0m\u001b[0mfilepath_or_buffer\u001b[0m\u001b[0;34m,\u001b[0m \u001b[0mkwds\u001b[0m\u001b[0;34m)\u001b[0m\u001b[0;34m\u001b[0m\u001b[0;34m\u001b[0m\u001b[0m\n\u001b[0m\u001b[1;32m    689\u001b[0m \u001b[0;34m\u001b[0m\u001b[0m\n\u001b[1;32m    690\u001b[0m \u001b[0;34m\u001b[0m\u001b[0m\n",
            "\u001b[0;32m/usr/local/lib/python3.7/dist-packages/pandas/io/parsers.py\u001b[0m in \u001b[0;36m_read\u001b[0;34m(filepath_or_buffer, kwds)\u001b[0m\n\u001b[1;32m    452\u001b[0m \u001b[0;34m\u001b[0m\u001b[0m\n\u001b[1;32m    453\u001b[0m     \u001b[0;31m# Create the parser.\u001b[0m\u001b[0;34m\u001b[0m\u001b[0;34m\u001b[0m\u001b[0;34m\u001b[0m\u001b[0m\n\u001b[0;32m--> 454\u001b[0;31m     \u001b[0mparser\u001b[0m \u001b[0;34m=\u001b[0m \u001b[0mTextFileReader\u001b[0m\u001b[0;34m(\u001b[0m\u001b[0mfp_or_buf\u001b[0m\u001b[0;34m,\u001b[0m \u001b[0;34m**\u001b[0m\u001b[0mkwds\u001b[0m\u001b[0;34m)\u001b[0m\u001b[0;34m\u001b[0m\u001b[0;34m\u001b[0m\u001b[0m\n\u001b[0m\u001b[1;32m    455\u001b[0m \u001b[0;34m\u001b[0m\u001b[0m\n\u001b[1;32m    456\u001b[0m     \u001b[0;32mif\u001b[0m \u001b[0mchunksize\u001b[0m \u001b[0;32mor\u001b[0m \u001b[0miterator\u001b[0m\u001b[0;34m:\u001b[0m\u001b[0;34m\u001b[0m\u001b[0;34m\u001b[0m\u001b[0m\n",
            "\u001b[0;32m/usr/local/lib/python3.7/dist-packages/pandas/io/parsers.py\u001b[0m in \u001b[0;36m__init__\u001b[0;34m(self, f, engine, **kwds)\u001b[0m\n\u001b[1;32m    946\u001b[0m             \u001b[0mself\u001b[0m\u001b[0;34m.\u001b[0m\u001b[0moptions\u001b[0m\u001b[0;34m[\u001b[0m\u001b[0;34m\"has_index_names\"\u001b[0m\u001b[0;34m]\u001b[0m \u001b[0;34m=\u001b[0m \u001b[0mkwds\u001b[0m\u001b[0;34m[\u001b[0m\u001b[0;34m\"has_index_names\"\u001b[0m\u001b[0;34m]\u001b[0m\u001b[0;34m\u001b[0m\u001b[0;34m\u001b[0m\u001b[0m\n\u001b[1;32m    947\u001b[0m \u001b[0;34m\u001b[0m\u001b[0m\n\u001b[0;32m--> 948\u001b[0;31m         \u001b[0mself\u001b[0m\u001b[0;34m.\u001b[0m\u001b[0m_make_engine\u001b[0m\u001b[0;34m(\u001b[0m\u001b[0mself\u001b[0m\u001b[0;34m.\u001b[0m\u001b[0mengine\u001b[0m\u001b[0;34m)\u001b[0m\u001b[0;34m\u001b[0m\u001b[0;34m\u001b[0m\u001b[0m\n\u001b[0m\u001b[1;32m    949\u001b[0m \u001b[0;34m\u001b[0m\u001b[0m\n\u001b[1;32m    950\u001b[0m     \u001b[0;32mdef\u001b[0m \u001b[0mclose\u001b[0m\u001b[0;34m(\u001b[0m\u001b[0mself\u001b[0m\u001b[0;34m)\u001b[0m\u001b[0;34m:\u001b[0m\u001b[0;34m\u001b[0m\u001b[0;34m\u001b[0m\u001b[0m\n",
            "\u001b[0;32m/usr/local/lib/python3.7/dist-packages/pandas/io/parsers.py\u001b[0m in \u001b[0;36m_make_engine\u001b[0;34m(self, engine)\u001b[0m\n\u001b[1;32m   1178\u001b[0m     \u001b[0;32mdef\u001b[0m \u001b[0m_make_engine\u001b[0m\u001b[0;34m(\u001b[0m\u001b[0mself\u001b[0m\u001b[0;34m,\u001b[0m \u001b[0mengine\u001b[0m\u001b[0;34m=\u001b[0m\u001b[0;34m\"c\"\u001b[0m\u001b[0;34m)\u001b[0m\u001b[0;34m:\u001b[0m\u001b[0;34m\u001b[0m\u001b[0;34m\u001b[0m\u001b[0m\n\u001b[1;32m   1179\u001b[0m         \u001b[0;32mif\u001b[0m \u001b[0mengine\u001b[0m \u001b[0;34m==\u001b[0m \u001b[0;34m\"c\"\u001b[0m\u001b[0;34m:\u001b[0m\u001b[0;34m\u001b[0m\u001b[0;34m\u001b[0m\u001b[0m\n\u001b[0;32m-> 1180\u001b[0;31m             \u001b[0mself\u001b[0m\u001b[0;34m.\u001b[0m\u001b[0m_engine\u001b[0m \u001b[0;34m=\u001b[0m \u001b[0mCParserWrapper\u001b[0m\u001b[0;34m(\u001b[0m\u001b[0mself\u001b[0m\u001b[0;34m.\u001b[0m\u001b[0mf\u001b[0m\u001b[0;34m,\u001b[0m \u001b[0;34m**\u001b[0m\u001b[0mself\u001b[0m\u001b[0;34m.\u001b[0m\u001b[0moptions\u001b[0m\u001b[0;34m)\u001b[0m\u001b[0;34m\u001b[0m\u001b[0;34m\u001b[0m\u001b[0m\n\u001b[0m\u001b[1;32m   1181\u001b[0m         \u001b[0;32melse\u001b[0m\u001b[0;34m:\u001b[0m\u001b[0;34m\u001b[0m\u001b[0;34m\u001b[0m\u001b[0m\n\u001b[1;32m   1182\u001b[0m             \u001b[0;32mif\u001b[0m \u001b[0mengine\u001b[0m \u001b[0;34m==\u001b[0m \u001b[0;34m\"python\"\u001b[0m\u001b[0;34m:\u001b[0m\u001b[0;34m\u001b[0m\u001b[0;34m\u001b[0m\u001b[0m\n",
            "\u001b[0;32m/usr/local/lib/python3.7/dist-packages/pandas/io/parsers.py\u001b[0m in \u001b[0;36m__init__\u001b[0;34m(self, src, **kwds)\u001b[0m\n\u001b[1;32m   2008\u001b[0m         \u001b[0mkwds\u001b[0m\u001b[0;34m[\u001b[0m\u001b[0;34m\"usecols\"\u001b[0m\u001b[0;34m]\u001b[0m \u001b[0;34m=\u001b[0m \u001b[0mself\u001b[0m\u001b[0;34m.\u001b[0m\u001b[0musecols\u001b[0m\u001b[0;34m\u001b[0m\u001b[0;34m\u001b[0m\u001b[0m\n\u001b[1;32m   2009\u001b[0m \u001b[0;34m\u001b[0m\u001b[0m\n\u001b[0;32m-> 2010\u001b[0;31m         \u001b[0mself\u001b[0m\u001b[0;34m.\u001b[0m\u001b[0m_reader\u001b[0m \u001b[0;34m=\u001b[0m \u001b[0mparsers\u001b[0m\u001b[0;34m.\u001b[0m\u001b[0mTextReader\u001b[0m\u001b[0;34m(\u001b[0m\u001b[0msrc\u001b[0m\u001b[0;34m,\u001b[0m \u001b[0;34m**\u001b[0m\u001b[0mkwds\u001b[0m\u001b[0;34m)\u001b[0m\u001b[0;34m\u001b[0m\u001b[0;34m\u001b[0m\u001b[0m\n\u001b[0m\u001b[1;32m   2011\u001b[0m         \u001b[0mself\u001b[0m\u001b[0;34m.\u001b[0m\u001b[0munnamed_cols\u001b[0m \u001b[0;34m=\u001b[0m \u001b[0mself\u001b[0m\u001b[0;34m.\u001b[0m\u001b[0m_reader\u001b[0m\u001b[0;34m.\u001b[0m\u001b[0munnamed_cols\u001b[0m\u001b[0;34m\u001b[0m\u001b[0;34m\u001b[0m\u001b[0m\n\u001b[1;32m   2012\u001b[0m \u001b[0;34m\u001b[0m\u001b[0m\n",
            "\u001b[0;32mpandas/_libs/parsers.pyx\u001b[0m in \u001b[0;36mpandas._libs.parsers.TextReader.__cinit__\u001b[0;34m()\u001b[0m\n",
            "\u001b[0;32mpandas/_libs/parsers.pyx\u001b[0m in \u001b[0;36mpandas._libs.parsers.TextReader._setup_parser_source\u001b[0;34m()\u001b[0m\n",
            "\u001b[0;31mFileNotFoundError\u001b[0m: [Errno 2] No such file or directory: 'postal_codes_toronto.csv'"
          ]
        }
      ]
    },
    {
      "cell_type": "markdown",
      "metadata": {
        "id": "8xyWZXM1zNjd"
      },
      "source": [
        "# Scraping Neighboorhoo Data"
      ]
    },
    {
      "cell_type": "code",
      "metadata": {
        "colab": {
          "base_uri": "https://localhost:8080/",
          "height": 202
        },
        "id": "UHGEjTD9y1M3",
        "outputId": "0a9c75a1-0e8f-4841-d09e-2abc3a5f4964"
      },
      "source": [
        "# loop through table, collect the each of 3 columns\n",
        "# Scrape the wikipedia page of Toronto\n",
        "\n",
        "table_contents=[]\n",
        "table=soup.find('table')\n",
        "for row in table.findAll('td'):\n",
        "    cell = {}\n",
        "    if row.span.text=='Not assigned':\n",
        "        pass\n",
        "    else:\n",
        "      # Create three columns named as \"PostalCode\",\"Borough\" & \"Neighborhood\"\n",
        "        cell['PostalCode'] = row.p.text[:3] # store only first three letter from the test of <p> tab.(Ex: M3A )\n",
        "        cell['Borough'] = (row.span.text).split('(')[0]\n",
        "        cell['Neighborhood'] = (((((row.span.text).split('(')[1]).strip(')')).replace(' /',',')).replace(')',' ')).strip(' ')\n",
        "        # here we replace some symbols like \"(\" , \")\" , \"/\" from the neighborhood name.\n",
        "        table_contents.append(cell)\n",
        "\n",
        "df=pd.DataFrame(table_contents)\n",
        "# compress some big borough name by smaller one\n",
        "df['Borough']=df['Borough'].replace({'Downtown TorontoStn A PO Boxes25 The Esplanade':'Downtown Toronto Stn A',\n",
        "                                             'East TorontoBusiness reply mail Processing Centre969 Eastern':'East Toronto Business',\n",
        "                                             'EtobicokeNorthwest':'Etobicoke Northwest','East YorkEast Toronto':'East York/East Toronto',\n",
        "                                             'MississaugaCanada Post Gateway Processing Centre':'Mississauga'})\n",
        "df.head()"
      ],
      "execution_count": null,
      "outputs": [
        {
          "output_type": "execute_result",
          "data": {
            "text/html": [
              "<div>\n",
              "<style scoped>\n",
              "    .dataframe tbody tr th:only-of-type {\n",
              "        vertical-align: middle;\n",
              "    }\n",
              "\n",
              "    .dataframe tbody tr th {\n",
              "        vertical-align: top;\n",
              "    }\n",
              "\n",
              "    .dataframe thead th {\n",
              "        text-align: right;\n",
              "    }\n",
              "</style>\n",
              "<table border=\"1\" class=\"dataframe\">\n",
              "  <thead>\n",
              "    <tr style=\"text-align: right;\">\n",
              "      <th></th>\n",
              "      <th>PostalCode</th>\n",
              "      <th>Borough</th>\n",
              "      <th>Neighborhood</th>\n",
              "    </tr>\n",
              "  </thead>\n",
              "  <tbody>\n",
              "    <tr>\n",
              "      <th>0</th>\n",
              "      <td>M3A</td>\n",
              "      <td>North York</td>\n",
              "      <td>Parkwoods</td>\n",
              "    </tr>\n",
              "    <tr>\n",
              "      <th>1</th>\n",
              "      <td>M4A</td>\n",
              "      <td>North York</td>\n",
              "      <td>Victoria Village</td>\n",
              "    </tr>\n",
              "    <tr>\n",
              "      <th>2</th>\n",
              "      <td>M5A</td>\n",
              "      <td>Downtown Toronto</td>\n",
              "      <td>Regent Park, Harbourfront</td>\n",
              "    </tr>\n",
              "    <tr>\n",
              "      <th>3</th>\n",
              "      <td>M6A</td>\n",
              "      <td>North York</td>\n",
              "      <td>Lawrence Manor, Lawrence Heights</td>\n",
              "    </tr>\n",
              "    <tr>\n",
              "      <th>4</th>\n",
              "      <td>M7A</td>\n",
              "      <td>Queen's Park</td>\n",
              "      <td>Ontario Provincial Government</td>\n",
              "    </tr>\n",
              "  </tbody>\n",
              "</table>\n",
              "</div>"
            ],
            "text/plain": [
              "  PostalCode           Borough                      Neighborhood\n",
              "0        M3A        North York                         Parkwoods\n",
              "1        M4A        North York                  Victoria Village\n",
              "2        M5A  Downtown Toronto         Regent Park, Harbourfront\n",
              "3        M6A        North York  Lawrence Manor, Lawrence Heights\n",
              "4        M7A      Queen's Park     Ontario Provincial Government"
            ]
          },
          "metadata": {
            "tags": []
          },
          "execution_count": 10
        }
      ]
    },
    {
      "cell_type": "code",
      "metadata": {
        "colab": {
          "base_uri": "https://localhost:8080/"
        },
        "id": "9wN4tSMzz82J",
        "outputId": "f215a437-f1c8-4bbd-e7e7-b9c07507ff95"
      },
      "source": [
        "df.shape"
      ],
      "execution_count": null,
      "outputs": [
        {
          "output_type": "execute_result",
          "data": {
            "text/plain": [
              "(103, 3)"
            ]
          },
          "metadata": {
            "tags": []
          },
          "execution_count": 12
        }
      ]
    },
    {
      "cell_type": "markdown",
      "metadata": {
        "id": "ankfUjkU0JdN"
      },
      "source": [
        "# Data Cleasing"
      ]
    },
    {
      "cell_type": "code",
      "metadata": {
        "id": "IP8DqaEH0Isz"
      },
      "source": [
        "# drop rows having null value and value assigned as \"Not assigned\"\n",
        "df_dropna = df.dropna()\n",
        "empty = 'Not assigned'\n",
        "df_dropna = df_dropna[(df_dropna.PostalCode != empty ) & (df_dropna.Borough != empty) & (df_dropna.Neighborhood != empty)].reset_index(drop=True)"
      ],
      "execution_count": null,
      "outputs": []
    },
    {
      "cell_type": "code",
      "metadata": {
        "colab": {
          "base_uri": "https://localhost:8080/"
        },
        "id": "iWJtrBM70aDk",
        "outputId": "76291001-cd4d-4ef9-ab5d-b07d50b9367f"
      },
      "source": [
        "# check for missing value\n",
        "df_dropna.isnull().sum()"
      ],
      "execution_count": null,
      "outputs": [
        {
          "output_type": "execute_result",
          "data": {
            "text/plain": [
              "PostalCode      0\n",
              "Borough         0\n",
              "Neighborhood    0\n",
              "dtype: int64"
            ]
          },
          "metadata": {
            "tags": []
          },
          "execution_count": 14
        }
      ]
    },
    {
      "cell_type": "code",
      "metadata": {
        "colab": {
          "base_uri": "https://localhost:8080/",
          "height": 48
        },
        "id": "eFZqIbNI0i4I",
        "outputId": "3635b503-47c1-474e-bc5b-65bb0cead815"
      },
      "source": [
        "#Check if we still have any Neighborhoods that are Not Assigned\n",
        "df_dropna.loc[df_dropna['Borough'].isin([\"Not assigned\"])]"
      ],
      "execution_count": null,
      "outputs": [
        {
          "output_type": "execute_result",
          "data": {
            "text/html": [
              "<div>\n",
              "<style scoped>\n",
              "    .dataframe tbody tr th:only-of-type {\n",
              "        vertical-align: middle;\n",
              "    }\n",
              "\n",
              "    .dataframe tbody tr th {\n",
              "        vertical-align: top;\n",
              "    }\n",
              "\n",
              "    .dataframe thead th {\n",
              "        text-align: right;\n",
              "    }\n",
              "</style>\n",
              "<table border=\"1\" class=\"dataframe\">\n",
              "  <thead>\n",
              "    <tr style=\"text-align: right;\">\n",
              "      <th></th>\n",
              "      <th>PostalCode</th>\n",
              "      <th>Borough</th>\n",
              "      <th>Neighborhood</th>\n",
              "    </tr>\n",
              "  </thead>\n",
              "  <tbody>\n",
              "  </tbody>\n",
              "</table>\n",
              "</div>"
            ],
            "text/plain": [
              "Empty DataFrame\n",
              "Columns: [PostalCode, Borough, Neighborhood]\n",
              "Index: []"
            ]
          },
          "metadata": {
            "tags": []
          },
          "execution_count": 15
        }
      ]
    },
    {
      "cell_type": "code",
      "metadata": {
        "colab": {
          "base_uri": "https://localhost:8080/",
          "height": 202
        },
        "id": "kneENT3R0t-2",
        "outputId": "155c8842-368a-4101-a46b-13fd47487b85"
      },
      "source": [
        "df = df_dropna\n",
        "df.head()"
      ],
      "execution_count": null,
      "outputs": [
        {
          "output_type": "execute_result",
          "data": {
            "text/html": [
              "<div>\n",
              "<style scoped>\n",
              "    .dataframe tbody tr th:only-of-type {\n",
              "        vertical-align: middle;\n",
              "    }\n",
              "\n",
              "    .dataframe tbody tr th {\n",
              "        vertical-align: top;\n",
              "    }\n",
              "\n",
              "    .dataframe thead th {\n",
              "        text-align: right;\n",
              "    }\n",
              "</style>\n",
              "<table border=\"1\" class=\"dataframe\">\n",
              "  <thead>\n",
              "    <tr style=\"text-align: right;\">\n",
              "      <th></th>\n",
              "      <th>PostalCode</th>\n",
              "      <th>Borough</th>\n",
              "      <th>Neighborhood</th>\n",
              "    </tr>\n",
              "  </thead>\n",
              "  <tbody>\n",
              "    <tr>\n",
              "      <th>0</th>\n",
              "      <td>M3A</td>\n",
              "      <td>North York</td>\n",
              "      <td>Parkwoods</td>\n",
              "    </tr>\n",
              "    <tr>\n",
              "      <th>1</th>\n",
              "      <td>M4A</td>\n",
              "      <td>North York</td>\n",
              "      <td>Victoria Village</td>\n",
              "    </tr>\n",
              "    <tr>\n",
              "      <th>2</th>\n",
              "      <td>M5A</td>\n",
              "      <td>Downtown Toronto</td>\n",
              "      <td>Regent Park, Harbourfront</td>\n",
              "    </tr>\n",
              "    <tr>\n",
              "      <th>3</th>\n",
              "      <td>M6A</td>\n",
              "      <td>North York</td>\n",
              "      <td>Lawrence Manor, Lawrence Heights</td>\n",
              "    </tr>\n",
              "    <tr>\n",
              "      <th>4</th>\n",
              "      <td>M7A</td>\n",
              "      <td>Queen's Park</td>\n",
              "      <td>Ontario Provincial Government</td>\n",
              "    </tr>\n",
              "  </tbody>\n",
              "</table>\n",
              "</div>"
            ],
            "text/plain": [
              "  PostalCode           Borough                      Neighborhood\n",
              "0        M3A        North York                         Parkwoods\n",
              "1        M4A        North York                  Victoria Village\n",
              "2        M5A  Downtown Toronto         Regent Park, Harbourfront\n",
              "3        M6A        North York  Lawrence Manor, Lawrence Heights\n",
              "4        M7A      Queen's Park     Ontario Provincial Government"
            ]
          },
          "metadata": {
            "tags": []
          },
          "execution_count": 16
        }
      ]
    },
    {
      "cell_type": "markdown",
      "metadata": {
        "id": "s13ou98z0-Sy"
      },
      "source": [
        "# Final Processing"
      ]
    },
    {
      "cell_type": "code",
      "metadata": {
        "id": "8XHH-rjI0zoc"
      },
      "source": [
        "# save this dataframe in a CSV file\n",
        "df.to_csv('postal_codes_toronto.csv')"
      ],
      "execution_count": null,
      "outputs": []
    },
    {
      "cell_type": "code",
      "metadata": {
        "colab": {
          "base_uri": "https://localhost:8080/"
        },
        "id": "AFTmAg8t08aI",
        "outputId": "7a773a12-0192-4f60-f601-37e5defa5da0"
      },
      "source": [
        "# shape of dataframe\n",
        "print(f'The shape of our dataframe is {df.shape} with the following details:\\n- {df.shape[0]} rows\\n- {df.shape[1]} columns\\n- {len(df.PostalCode.unique())} unique postal codes\\n- {len(df.Borough.unique())} unique boroughs')"
      ],
      "execution_count": null,
      "outputs": [
        {
          "output_type": "stream",
          "text": [
            "The shape of our dataframe is (103, 3) with the following details:\n",
            "- 103 rows\n",
            "- 3 columns\n",
            "- 103 unique postal codes\n",
            "- 15 unique boroughs\n"
          ],
          "name": "stdout"
        }
      ]
    }
  ]
}